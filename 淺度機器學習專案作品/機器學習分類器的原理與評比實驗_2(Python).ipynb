{
 "cells": [
  {
   "cell_type": "markdown",
   "metadata": {},
   "source": [
    "# 淺度機器學習作品三 : 分類器的原理與評比實驗"
   ]
  },
  {
   "cell_type": "markdown",
   "metadata": {},
   "source": [
    "### 學號 : 411072054 <br> 姓名 : 黃暐宸"
   ]
  },
  {
   "cell_type": "markdown",
   "metadata": {},
   "source": [
    "### <font color=darkgoldenrod>作品目標</font>：<br> \n",
    "\n",
    "\n",
    "用三種分類器分別對資料進行分類學習與測試。其中分類器包括：\n",
    "1. 多元羅吉斯回歸 (Multinomial Logistic Regression)\n",
    "2. 支援向量機 (Support Vector Machine)\n",
    "3. 神經網路 (Neural Network)\n",
    "\n",
    "目標 :\n",
    "\n",
    "1. 比較三種分類器在原始資料和主成分資料上的表現，找出在各種情況下表現最好的分類器和參數。\n",
    "\n",
    "2. 機器學習最基本的概念是使機器能對多變量資料進行分類，在找表現最好的分類器和參數的過程中，初步了解機器學習到底在做甚麼事情。\n",
    "\n",
    "3. 透過對不同大小的資料集進行分類學習與測試，了解資料量對機器學習造成的影響。"
   ]
  },
  {
   "cell_type": "markdown",
   "metadata": {},
   "source": [
    "### 分類器介紹\n",
    "1. 多元羅吉斯回歸 (Multinomial Logistic Regression)是一種用於處理多類別問題的監督學習算法。它使用羅吉斯函數來估計一個觀察值屬於某一類別的概率。最後，模型將觀察值分類到概率最高的類別。\n",
    "\n",
    "2. 支援向量機 (Support Vector Machine):是一種二元分類器，其目標是找到一個超平面來最大化兩個類別之間的邊界。對於非線性問題，它可以使用核函數將資料映射到一個更高維度的空間，使得資料在這個空間中是線性可分的。\n",
    "\n",
    "3. 神經網路 (Neural Network)是一種模仿人腦神經元工作方式的模型，由多個層次的節點（或稱為\"神經元\"）組成。每個節點將前一層的輸出進行加權總和，然後通過一個非線性函數（如ReLU或sigmoid）來產生自己的輸出。透過反向傳播和梯度下降等方法來學習權重。"
   ]
  },
  {
   "cell_type": "markdown",
   "metadata": {},
   "source": [
    "## (一)準備資料 : AT&T 人臉資料。這組影像資料共有 40 人（類），每人 10 張影像，每張影像大小為64 × 64。"
   ]
  },
  {
   "cell_type": "markdown",
   "metadata": {},
   "source": [
    "程式碼說明:\n",
    "1. 訓練資料與測試資料必須分開標準化，而非標準化後再分成訓練與測試資料，將測試資料規劃為 25%。\n",
    "2. 對訓練集和測試集進行標準化處理"
   ]
  },
  {
   "cell_type": "code",
   "execution_count": 4,
   "metadata": {},
   "outputs": [],
   "source": [
    "import pandas as pd\n",
    "import numpy as np\n",
    "from sklearn.preprocessing import StandardScaler\n",
    "from sklearn.model_selection import train_test_split\n",
    "# Read data\n",
    "df = pd.read_csv(\"face_data.csv\")\n",
    "X = np.array(df.iloc[:, :-1]) # 排 除 最 後 一 欄 標 籤\n",
    "y = np.array(df.iloc[:, -1]) # 標籤欄\n",
    "# Split data into training and testing data\n",
    "X_train, X_test, y_train, y_test = train_test_split(X, y, test_size=0.25)\n",
    "# Standardize data\n",
    "scaler = StandardScaler()\n",
    "X_train_ = scaler.fit_transform(X_train)\n",
    "X_test_ = scaler.fit_transform(X_test)"
   ]
  },
  {
   "cell_type": "code",
   "execution_count": 5,
   "metadata": {},
   "outputs": [
    {
     "name": "stdout",
     "output_type": "stream",
     "text": [
      "Number of samples: 400\n"
     ]
    }
   ],
   "source": [
    "num_samples = df.shape[0]\n",
    "print(f\"Number of samples: {num_samples}\")"
   ]
  },
  {
   "cell_type": "markdown",
   "metadata": {},
   "source": [
    "## (二)用logistic regression分類"
   ]
  },
  {
   "cell_type": "markdown",
   "metadata": {},
   "source": [
    "### (1)以標準化後之原始資料的訓練資料學習，並以測試資料測試準確率"
   ]
  },
  {
   "cell_type": "markdown",
   "metadata": {},
   "source": [
    "程式碼說明:\n",
    "1. opts = dict(tol = 1e-6, max_iter = int(1e6), verbose=1)創建了一個名為 opts 的字典，設定模型參數(tol: 容忍值, max_iter: 最大迭代次數, verbose: 是否顯示訓練過程)。\n",
    "2. 分別設定不同的模型演算法(lbfgs、liblinear、newton-cg)。\n",
    "3. 訓練模型，並使用訓練好的模型來預測測試數據。\n",
    "4. 回報測試資料對於訓練完成的分類器的分類準確率，以兩種不同方式呈現，其中 accuracy_score 比對了測試資料的標籤（y_test）與分類預測值（y_pred），而 clf_original.score 直接給出準確率。兩者結果是一樣的。\n",
    "5. 最後給出較完整的報告(classification_report)。"
   ]
  },
  {
   "cell_type": "markdown",
   "metadata": {},
   "source": [
    "演算法(lbfgs)"
   ]
  },
  {
   "cell_type": "code",
   "execution_count": 9,
   "metadata": {},
   "outputs": [],
   "source": [
    "from sklearn.linear_model import LogisticRegression\n",
    "from sklearn.metrics import accuracy_score, classification_report\n",
    "\n",
    "def train_LR(solver, X_train, y_train, X_test, y_test):\n",
    "    opts = dict(tol = 1e-6, max_iter = int(1e6), verbose=1) \n",
    "    clf_LR = LogisticRegression(solver = solver, **opts) # 建立模型 \n",
    "    clf_LR.fit(X_train, y_train) # 訓練模型\n",
    "    y_pred = clf_LR.predict(X_test) # 預測測試資料\n",
    "    # 測試資料之準確率回報\n",
    "    print(f\"{accuracy_score(y_test, y_pred):.2%}\\n\")\n",
    "    print(f\"{clf_LR.score(X_test, y_test):.2%}\\n\")\n",
    "    print(classification_report(y_test, y_pred))\n"
   ]
  },
  {
   "cell_type": "code",
   "execution_count": 8,
   "metadata": {},
   "outputs": [
    {
     "name": "stdout",
     "output_type": "stream",
     "text": [
      "93.33%\n",
      "\n",
      "93.33%\n",
      "\n",
      "              precision    recall  f1-score   support\n",
      "\n",
      "           0       1.00      0.60      0.75         5\n",
      "           1       1.00      1.00      1.00         6\n",
      "           2       0.67      1.00      0.80         2\n",
      "           3       1.00      0.67      0.80         3\n",
      "           4       1.00      0.75      0.86         4\n",
      "           5       1.00      1.00      1.00         3\n",
      "           6       1.00      1.00      1.00         5\n",
      "           7       1.00      0.50      0.67         2\n",
      "           8       1.00      1.00      1.00         3\n",
      "           9       1.00      0.67      0.80         3\n",
      "          10       1.00      1.00      1.00         3\n",
      "          11       1.00      1.00      1.00         4\n",
      "          12       0.67      0.67      0.67         3\n",
      "          13       1.00      1.00      1.00         3\n",
      "          14       0.50      1.00      0.67         1\n",
      "          15       1.00      1.00      1.00         4\n",
      "          16       1.00      1.00      1.00         3\n",
      "          17       1.00      1.00      1.00         1\n",
      "          18       1.00      1.00      1.00         2\n",
      "          19       1.00      1.00      1.00         1\n",
      "          20       1.00      1.00      1.00         3\n",
      "          21       1.00      1.00      1.00         3\n",
      "          22       1.00      1.00      1.00         3\n",
      "          23       1.00      0.80      0.89         5\n",
      "          24       1.00      1.00      1.00         2\n",
      "          25       1.00      1.00      1.00         3\n",
      "          26       1.00      1.00      1.00         2\n",
      "          27       1.00      1.00      1.00         3\n",
      "          28       1.00      1.00      1.00         3\n",
      "          29       1.00      1.00      1.00         3\n",
      "          30       1.00      1.00      1.00         1\n",
      "          31       1.00      1.00      1.00         4\n",
      "          32       1.00      1.00      1.00         4\n",
      "          33       1.00      1.00      1.00         2\n",
      "          34       1.00      1.00      1.00         5\n",
      "          35       1.00      1.00      1.00         4\n",
      "          36       1.00      1.00      1.00         2\n",
      "          37       1.00      1.00      1.00         2\n",
      "          38       0.67      1.00      0.80         2\n",
      "          39       0.43      1.00      0.60         3\n",
      "\n",
      "    accuracy                           0.93       120\n",
      "   macro avg       0.95      0.94      0.93       120\n",
      "weighted avg       0.96      0.93      0.94       120\n",
      "\n",
      "[LibLinear]91.67%\n",
      "\n",
      "91.67%\n",
      "\n",
      "              precision    recall  f1-score   support\n",
      "\n",
      "           0       1.00      0.40      0.57         5\n",
      "           1       1.00      0.83      0.91         6\n",
      "           2       1.00      1.00      1.00         2\n",
      "           3       1.00      0.67      0.80         3\n",
      "           4       1.00      0.75      0.86         4\n",
      "           5       1.00      1.00      1.00         3\n",
      "           6       1.00      1.00      1.00         5\n",
      "           7       0.40      1.00      0.57         2\n",
      "           8       1.00      1.00      1.00         3\n",
      "           9       1.00      1.00      1.00         3\n",
      "          10       1.00      1.00      1.00         3\n",
      "          11       1.00      1.00      1.00         4\n",
      "          12       1.00      0.67      0.80         3\n",
      "          13       1.00      1.00      1.00         3\n",
      "          14       0.50      1.00      0.67         1\n",
      "          15       1.00      1.00      1.00         4\n",
      "          16       0.75      1.00      0.86         3\n",
      "          17       1.00      1.00      1.00         1\n",
      "          18       0.50      1.00      0.67         2\n",
      "          19       1.00      1.00      1.00         1\n",
      "          20       1.00      0.67      0.80         3\n",
      "          21       1.00      1.00      1.00         3\n",
      "          22       1.00      1.00      1.00         3\n",
      "          23       1.00      0.80      0.89         5\n",
      "          24       1.00      1.00      1.00         2\n",
      "          25       1.00      1.00      1.00         3\n",
      "          26       1.00      1.00      1.00         2\n",
      "          27       1.00      1.00      1.00         3\n",
      "          28       1.00      1.00      1.00         3\n",
      "          29       1.00      1.00      1.00         3\n",
      "          30       0.50      1.00      0.67         1\n",
      "          31       1.00      1.00      1.00         4\n",
      "          32       1.00      1.00      1.00         4\n",
      "          33       1.00      1.00      1.00         2\n",
      "          34       1.00      1.00      1.00         5\n",
      "          35       0.75      0.75      0.75         4\n",
      "          36       1.00      1.00      1.00         2\n",
      "          37       1.00      1.00      1.00         2\n",
      "          38       0.67      1.00      0.80         2\n",
      "          39       1.00      1.00      1.00         3\n",
      "\n",
      "    accuracy                           0.92       120\n",
      "   macro avg       0.93      0.94      0.92       120\n",
      "weighted avg       0.95      0.92      0.92       120\n",
      "\n",
      "93.33%\n",
      "\n",
      "93.33%\n",
      "\n",
      "              precision    recall  f1-score   support\n",
      "\n",
      "           0       1.00      0.60      0.75         5\n",
      "           1       1.00      1.00      1.00         6\n",
      "           2       0.67      1.00      0.80         2\n",
      "           3       1.00      0.67      0.80         3\n",
      "           4       1.00      0.75      0.86         4\n",
      "           5       1.00      1.00      1.00         3\n",
      "           6       1.00      1.00      1.00         5\n",
      "           7       1.00      0.50      0.67         2\n",
      "           8       1.00      1.00      1.00         3\n",
      "           9       1.00      0.67      0.80         3\n",
      "          10       1.00      1.00      1.00         3\n",
      "          11       1.00      1.00      1.00         4\n",
      "          12       0.67      0.67      0.67         3\n",
      "          13       1.00      1.00      1.00         3\n",
      "          14       0.50      1.00      0.67         1\n",
      "          15       1.00      1.00      1.00         4\n",
      "          16       1.00      1.00      1.00         3\n",
      "          17       1.00      1.00      1.00         1\n",
      "          18       1.00      1.00      1.00         2\n",
      "          19       1.00      1.00      1.00         1\n",
      "          20       1.00      1.00      1.00         3\n",
      "          21       1.00      1.00      1.00         3\n",
      "          22       1.00      1.00      1.00         3\n",
      "          23       1.00      0.80      0.89         5\n",
      "          24       1.00      1.00      1.00         2\n",
      "          25       1.00      1.00      1.00         3\n",
      "          26       1.00      1.00      1.00         2\n",
      "          27       1.00      1.00      1.00         3\n",
      "          28       1.00      1.00      1.00         3\n",
      "          29       1.00      1.00      1.00         3\n",
      "          30       1.00      1.00      1.00         1\n",
      "          31       1.00      1.00      1.00         4\n",
      "          32       1.00      1.00      1.00         4\n",
      "          33       1.00      1.00      1.00         2\n",
      "          34       1.00      1.00      1.00         5\n",
      "          35       1.00      1.00      1.00         4\n",
      "          36       1.00      1.00      1.00         2\n",
      "          37       1.00      1.00      1.00         2\n",
      "          38       0.67      1.00      0.80         2\n",
      "          39       0.43      1.00      0.60         3\n",
      "\n",
      "    accuracy                           0.93       120\n",
      "   macro avg       0.95      0.94      0.93       120\n",
      "weighted avg       0.96      0.93      0.94       120\n",
      "\n"
     ]
    }
   ],
   "source": [
    "# 使用函數訓練模型\n",
    "train_LR(\"lbfgs\", X_train_, y_train, X_test_, y_test)"
   ]
  },
  {
   "cell_type": "markdown",
   "metadata": {},
   "source": [
    "### sklearn分類報告的項目說明:\n",
    "\n",
    "1. Accuracy : 模型預測正確數量所佔整體的比例。\n",
    "2. Precision : 精確率，被預測為 Positive 的資料中，有多少是真的 Positive。\n",
    "3. Recall : 召回率，它是原本是 Positive 的資料，它能夠召回多少，也就是說在原本 Positive 的資料中被預測出多少。\n",
    "4. F1-score : Precision 與 Recall 調和平均數，模型越接近1，模型越好。\n",
    "5. support : 告訴測試資料集中有多少項目屬於每個類別。\n",
    "6. macro avg : 對每個類別的precision、recall、f1-score加起來求平均。\n",
    "7. weighted avg  : 按照support的權重，對每個類別的precision、recall、f1-score加起來求平均。"
   ]
  },
  {
   "cell_type": "markdown",
   "metadata": {},
   "source": [
    "結果說明 :\n",
    "1. 測試資料之準確率93.33%。\n",
    "2. 在加權平均的評估指標中，模型的精確率、召回率和F1分數分別為0.96、0.93、0.94，這表示模型在每個類別的預測性能還不錯。"
   ]
  },
  {
   "cell_type": "code",
   "execution_count": 9,
   "metadata": {},
   "outputs": [
    {
     "name": "stdout",
     "output_type": "stream",
     "text": [
      "[LibLinear]91.67%\n",
      "\n",
      "91.67%\n",
      "\n",
      "              precision    recall  f1-score   support\n",
      "\n",
      "           0       1.00      0.40      0.57         5\n",
      "           1       1.00      0.83      0.91         6\n",
      "           2       1.00      1.00      1.00         2\n",
      "           3       1.00      0.67      0.80         3\n",
      "           4       1.00      0.75      0.86         4\n",
      "           5       1.00      1.00      1.00         3\n",
      "           6       1.00      1.00      1.00         5\n",
      "           7       0.40      1.00      0.57         2\n",
      "           8       1.00      1.00      1.00         3\n",
      "           9       1.00      1.00      1.00         3\n",
      "          10       1.00      1.00      1.00         3\n",
      "          11       1.00      1.00      1.00         4\n",
      "          12       1.00      0.67      0.80         3\n",
      "          13       1.00      1.00      1.00         3\n",
      "          14       0.50      1.00      0.67         1\n",
      "          15       1.00      1.00      1.00         4\n",
      "          16       0.75      1.00      0.86         3\n",
      "          17       1.00      1.00      1.00         1\n",
      "          18       0.50      1.00      0.67         2\n",
      "          19       1.00      1.00      1.00         1\n",
      "          20       1.00      0.67      0.80         3\n",
      "          21       1.00      1.00      1.00         3\n",
      "          22       1.00      1.00      1.00         3\n",
      "          23       1.00      0.80      0.89         5\n",
      "          24       1.00      1.00      1.00         2\n",
      "          25       1.00      1.00      1.00         3\n",
      "          26       1.00      1.00      1.00         2\n",
      "          27       1.00      1.00      1.00         3\n",
      "          28       1.00      1.00      1.00         3\n",
      "          29       1.00      1.00      1.00         3\n",
      "          30       0.50      1.00      0.67         1\n",
      "          31       1.00      1.00      1.00         4\n",
      "          32       1.00      1.00      1.00         4\n",
      "          33       1.00      1.00      1.00         2\n",
      "          34       1.00      1.00      1.00         5\n",
      "          35       0.75      0.75      0.75         4\n",
      "          36       1.00      1.00      1.00         2\n",
      "          37       1.00      1.00      1.00         2\n",
      "          38       0.67      1.00      0.80         2\n",
      "          39       1.00      1.00      1.00         3\n",
      "\n",
      "    accuracy                           0.92       120\n",
      "   macro avg       0.93      0.94      0.92       120\n",
      "weighted avg       0.95      0.92      0.92       120\n",
      "\n"
     ]
    }
   ],
   "source": [
    "train_LR(\"liblinear\", X_train_, y_train, X_test_, y_test)"
   ]
  },
  {
   "cell_type": "markdown",
   "metadata": {},
   "source": [
    "結果說明 :\n",
    "1. 測試資料之準確率91.67%。\n",
    "2. 在加權平均的評估指標中，模型的精確率、召回率和F1分數分別為0.95、0.92、0.92，這表示模型在每個類別的預測性能還不錯。"
   ]
  },
  {
   "cell_type": "code",
   "execution_count": 10,
   "metadata": {},
   "outputs": [
    {
     "name": "stdout",
     "output_type": "stream",
     "text": [
      "93.33%\n",
      "\n",
      "93.33%\n",
      "\n",
      "              precision    recall  f1-score   support\n",
      "\n",
      "           0       1.00      0.60      0.75         5\n",
      "           1       1.00      1.00      1.00         6\n",
      "           2       0.67      1.00      0.80         2\n",
      "           3       1.00      0.67      0.80         3\n",
      "           4       1.00      0.75      0.86         4\n",
      "           5       1.00      1.00      1.00         3\n",
      "           6       1.00      1.00      1.00         5\n",
      "           7       1.00      0.50      0.67         2\n",
      "           8       1.00      1.00      1.00         3\n",
      "           9       1.00      0.67      0.80         3\n",
      "          10       1.00      1.00      1.00         3\n",
      "          11       1.00      1.00      1.00         4\n",
      "          12       0.67      0.67      0.67         3\n",
      "          13       1.00      1.00      1.00         3\n",
      "          14       0.50      1.00      0.67         1\n",
      "          15       1.00      1.00      1.00         4\n",
      "          16       1.00      1.00      1.00         3\n",
      "          17       1.00      1.00      1.00         1\n",
      "          18       1.00      1.00      1.00         2\n",
      "          19       1.00      1.00      1.00         1\n",
      "          20       1.00      1.00      1.00         3\n",
      "          21       1.00      1.00      1.00         3\n",
      "          22       1.00      1.00      1.00         3\n",
      "          23       1.00      0.80      0.89         5\n",
      "          24       1.00      1.00      1.00         2\n",
      "          25       1.00      1.00      1.00         3\n",
      "          26       1.00      1.00      1.00         2\n",
      "          27       1.00      1.00      1.00         3\n",
      "          28       1.00      1.00      1.00         3\n",
      "          29       1.00      1.00      1.00         3\n",
      "          30       1.00      1.00      1.00         1\n",
      "          31       1.00      1.00      1.00         4\n",
      "          32       1.00      1.00      1.00         4\n",
      "          33       1.00      1.00      1.00         2\n",
      "          34       1.00      1.00      1.00         5\n",
      "          35       1.00      1.00      1.00         4\n",
      "          36       1.00      1.00      1.00         2\n",
      "          37       1.00      1.00      1.00         2\n",
      "          38       0.67      1.00      0.80         2\n",
      "          39       0.43      1.00      0.60         3\n",
      "\n",
      "    accuracy                           0.93       120\n",
      "   macro avg       0.95      0.94      0.93       120\n",
      "weighted avg       0.96      0.93      0.94       120\n",
      "\n"
     ]
    }
   ],
   "source": [
    "train_LR(\"newton-cg\", X_train_, y_train, X_test_, y_test)"
   ]
  },
  {
   "cell_type": "markdown",
   "metadata": {},
   "source": [
    "結果說明 :\n",
    "1. 測試資料之準確率93.33%。\n",
    "2. 在加權平均的評估指標中，模型的精確率、召回率和F1分數分別為0.96、0.93、0.94，這表示模型在每個類別的預測性能還不錯。"
   ]
  },
  {
   "cell_type": "markdown",
   "metadata": {},
   "source": [
    "### 使用網格搜索（GridSearchCV）來尋找最佳的參數組合\n"
   ]
  },
  {
   "cell_type": "markdown",
   "metadata": {},
   "source": [
    "\n",
    "程式碼說明:\n",
    "1. 設定參數網格\n",
    "2. 進行網格搜索(GridSearchCV)\n",
    "3. 輸出最佳參數：網格搜索完成後，輸出找到的最佳參數組合\n",
    "4. 預測並評估模型：使用訓練好的模型對測試數據進行預測，並輸出模型在測試數據上的準確度和分類報告\n"
   ]
  },
  {
   "cell_type": "code",
   "execution_count": 12,
   "metadata": {},
   "outputs": [
    {
     "name": "stdout",
     "output_type": "stream",
     "text": [
      "Fitting 3 folds for each of 48 candidates, totalling 144 fits\n",
      "Best Parameters:  {'max_iter': 1000, 'solver': 'newton-cg', 'tol': 0.001}\n",
      "97.00%\n",
      "\n",
      "97.00%\n",
      "\n",
      "              precision    recall  f1-score   support\n",
      "\n",
      "           0       1.00      1.00      1.00         2\n",
      "           1       1.00      1.00      1.00         3\n",
      "           2       0.75      1.00      0.86         3\n",
      "           3       1.00      1.00      1.00         3\n",
      "           4       1.00      0.80      0.89         5\n",
      "           5       0.67      1.00      0.80         2\n",
      "           6       1.00      1.00      1.00         1\n",
      "           7       1.00      1.00      1.00         3\n",
      "           8       1.00      1.00      1.00         2\n",
      "           9       1.00      0.67      0.80         3\n",
      "          10       1.00      1.00      1.00         3\n",
      "          11       1.00      1.00      1.00         2\n",
      "          12       1.00      1.00      1.00         2\n",
      "          13       1.00      1.00      1.00         4\n",
      "          14       1.00      1.00      1.00         2\n",
      "          15       1.00      1.00      1.00         4\n",
      "          16       1.00      1.00      1.00         1\n",
      "          17       1.00      1.00      1.00         3\n",
      "          18       1.00      1.00      1.00         2\n",
      "          19       1.00      1.00      1.00         3\n",
      "          20       1.00      1.00      1.00         2\n",
      "          21       1.00      1.00      1.00         2\n",
      "          22       1.00      1.00      1.00         5\n",
      "          23       1.00      1.00      1.00         3\n",
      "          24       1.00      1.00      1.00         2\n",
      "          25       1.00      0.67      0.80         3\n",
      "          26       1.00      1.00      1.00         2\n",
      "          28       1.00      1.00      1.00         3\n",
      "          29       1.00      1.00      1.00         2\n",
      "          30       1.00      1.00      1.00         4\n",
      "          33       1.00      1.00      1.00         2\n",
      "          34       1.00      1.00      1.00         2\n",
      "          35       1.00      1.00      1.00         1\n",
      "          36       1.00      1.00      1.00         4\n",
      "          37       1.00      1.00      1.00         4\n",
      "          38       1.00      1.00      1.00         3\n",
      "          39       0.75      1.00      0.86         3\n",
      "\n",
      "    accuracy                           0.97       100\n",
      "   macro avg       0.98      0.98      0.97       100\n",
      "weighted avg       0.98      0.97      0.97       100\n",
      "\n"
     ]
    }
   ],
   "source": [
    "from sklearn.model_selection import GridSearchCV\n",
    "from sklearn.neural_network import MLPClassifier\n",
    "\n",
    "param_grid = [\n",
    "    {\n",
    "        'solver': ['newton-cg', 'lbfgs', 'liblinear'],\n",
    "        'tol': [1e-3, 1e-4, 1e-5, 1e-6],\n",
    "        'max_iter': [int(1e3), int(1e4), int(1e5), int(1e6)]\n",
    "    }\n",
    "]\n",
    "\n",
    "clf_LR = LogisticRegression()\n",
    "\n",
    "clf_LR_gs = GridSearchCV(clf_LR, param_grid, verbose=1, cv=3, n_jobs=-1)\n",
    "\n",
    "clf_LR_gs.fit(X_train_, y_train)\n",
    "\n",
    "print(\"Best Parameters: \", clf_LR_gs.best_params_)\n",
    "\n",
    "y_pred = clf_LR_gs.predict(X_test_)\n",
    "\n",
    "print(f\"{accuracy_score(y_test, y_pred):.2%}\\n\")\n",
    "print(f\"{clf_LR_gs.score(X_test_, y_test):.2%}\\n\")\n",
    "print(classification_report(y_test, y_pred))"
   ]
  },
  {
   "cell_type": "markdown",
   "metadata": {},
   "source": [
    "結果說明 :\n",
    "\n",
    "三種演算法表現最好的是newton-cg，參數設定是('max_iter': 1000, 'solver': 'newton-cg', 'tol': 0.001)，測試資料之準確率達到97%。"
   ]
  },
  {
   "cell_type": "code",
   "execution_count": null,
   "metadata": {},
   "outputs": [],
   "source": [
    "import matplotlib.pyplot as plt\n",
    "import numpy as np\n",
    "import scipy.io\n",
    "\n",
    "D = scipy.io.loadmat(\"allFaces.mat\")\n",
    "X = D[\"faces\"].T # 32256 x 2410, each column represents an image\n",
    "y = np.ndarray.flatten(D[\"nfaces\"])\n",
    "m = D[\"m\"].item() # 168\n",
    "n = D[\"n\"].item() # 192\n",
    "n_persons = D[\"person\"].item() # 38\n",
    "\n",
    "# prepare y labels\n",
    "y_labels = np.repeat(np.arange(len(y)), y)\n"
   ]
  },
  {
   "cell_type": "markdown",
   "metadata": {},
   "source": [
    "### (2)以標準化後之原始資料的主成分之訓練資料學習，並以測試資料測試準確率"
   ]
  },
  {
   "cell_type": "markdown",
   "metadata": {},
   "source": [
    "程式碼說明 :\n",
    "1. 使用 PCA 對訓練數據 X_train_ 進行擬合，並將其降維到45個主成分。\n",
    "2. 使用訓練好的 PCA 模型將訓練數據和測試數據轉換到新的低維空間，得到 Z_train 和 Z_test。\n",
    "3. 設定並訓練羅吉斯迴歸模型。\n",
    "4. 使用模型預測測試數據並計算準確率。\n",
    "5. 輸出模型的分類報告。"
   ]
  },
  {
   "cell_type": "markdown",
   "metadata": {},
   "source": [
    "演算法(lbfgs)"
   ]
  },
  {
   "cell_type": "code",
   "execution_count": 24,
   "metadata": {},
   "outputs": [
    {
     "name": "stdout",
     "output_type": "stream",
     "text": [
      "93.33%\n",
      "\n",
      "              precision    recall  f1-score   support\n",
      "\n",
      "           0       1.00      0.60      0.75         5\n",
      "           1       1.00      1.00      1.00         6\n",
      "           2       0.67      1.00      0.80         2\n",
      "           3       1.00      0.67      0.80         3\n",
      "           4       1.00      1.00      1.00         4\n",
      "           5       1.00      1.00      1.00         3\n",
      "           6       1.00      1.00      1.00         5\n",
      "           7       1.00      0.50      0.67         2\n",
      "           8       1.00      1.00      1.00         3\n",
      "           9       1.00      0.67      0.80         3\n",
      "          10       1.00      1.00      1.00         3\n",
      "          11       1.00      1.00      1.00         4\n",
      "          12       0.50      0.67      0.57         3\n",
      "          13       1.00      1.00      1.00         3\n",
      "          14       0.50      1.00      0.67         1\n",
      "          15       1.00      1.00      1.00         4\n",
      "          16       1.00      1.00      1.00         3\n",
      "          17       1.00      1.00      1.00         1\n",
      "          18       1.00      1.00      1.00         2\n",
      "          19       1.00      1.00      1.00         1\n",
      "          20       1.00      1.00      1.00         3\n",
      "          21       1.00      1.00      1.00         3\n",
      "          22       1.00      1.00      1.00         3\n",
      "          23       1.00      0.80      0.89         5\n",
      "          24       1.00      1.00      1.00         2\n",
      "          25       1.00      1.00      1.00         3\n",
      "          26       1.00      1.00      1.00         2\n",
      "          27       1.00      1.00      1.00         3\n",
      "          28       1.00      1.00      1.00         3\n",
      "          29       0.75      1.00      0.86         3\n",
      "          30       1.00      1.00      1.00         1\n",
      "          31       1.00      1.00      1.00         4\n",
      "          32       1.00      1.00      1.00         4\n",
      "          33       1.00      1.00      1.00         2\n",
      "          34       1.00      1.00      1.00         5\n",
      "          35       1.00      0.75      0.86         4\n",
      "          36       1.00      1.00      1.00         2\n",
      "          37       1.00      1.00      1.00         2\n",
      "          38       0.67      1.00      0.80         2\n",
      "          39       0.60      1.00      0.75         3\n",
      "\n",
      "    accuracy                           0.93       120\n",
      "   macro avg       0.94      0.94      0.93       120\n",
      "weighted avg       0.96      0.93      0.93       120\n",
      "\n"
     ]
    }
   ],
   "source": [
    "from sklearn.decomposition import PCA\n",
    "pca = PCA(n_components = 45).fit(X_train_)\n",
    "Z_train = pca.transform(X_train_)\n",
    "Z_test = pca.transform(X_test_)\n",
    "opts = dict(tol = 1e-6, max_iter = int(1e6), verbose=1)\n",
    "solver = \"lbfgs\" \n",
    "clf_PCA = LogisticRegression(solver = solver, **opts)\n",
    "clf_PCA.fit(Z_train, y_train)\n",
    "y_pred = clf_PCA.predict(Z_test)\n",
    "print(f\"{clf_PCA.score(Z_test, y_test):.2%}\\n\")\n",
    "print(classification_report(y_test, y_pred))"
   ]
  },
  {
   "cell_type": "markdown",
   "metadata": {},
   "source": [
    "結果說明 :\n",
    "1. 測試資料之準確率93.33%。\n",
    "2. 在加權平均的評估指標中，精確率、召回率和F1分數分別為0.96、0.93、0.93，這表示考慮到每個類別的樣本數量後，模型的整體性能仍然非常好。"
   ]
  },
  {
   "cell_type": "markdown",
   "metadata": {},
   "source": [
    "演算法(liblinear)"
   ]
  },
  {
   "cell_type": "code",
   "execution_count": 25,
   "metadata": {},
   "outputs": [
    {
     "name": "stdout",
     "output_type": "stream",
     "text": [
      "[LibLinear]91.67%\n",
      "\n",
      "              precision    recall  f1-score   support\n",
      "\n",
      "           0       1.00      0.60      0.75         5\n",
      "           1       1.00      1.00      1.00         6\n",
      "           2       0.67      1.00      0.80         2\n",
      "           3       1.00      0.67      0.80         3\n",
      "           4       1.00      1.00      1.00         4\n",
      "           5       1.00      1.00      1.00         3\n",
      "           6       1.00      0.80      0.89         5\n",
      "           7       0.50      0.50      0.50         2\n",
      "           8       1.00      1.00      1.00         3\n",
      "           9       1.00      0.67      0.80         3\n",
      "          10       1.00      1.00      1.00         3\n",
      "          11       0.80      1.00      0.89         4\n",
      "          12       0.67      0.67      0.67         3\n",
      "          13       1.00      1.00      1.00         3\n",
      "          14       1.00      1.00      1.00         1\n",
      "          15       1.00      1.00      1.00         4\n",
      "          16       1.00      1.00      1.00         3\n",
      "          17       0.33      1.00      0.50         1\n",
      "          18       1.00      1.00      1.00         2\n",
      "          19       1.00      1.00      1.00         1\n",
      "          20       1.00      1.00      1.00         3\n",
      "          21       1.00      1.00      1.00         3\n",
      "          22       1.00      1.00      1.00         3\n",
      "          23       1.00      0.80      0.89         5\n",
      "          24       1.00      1.00      1.00         2\n",
      "          25       1.00      1.00      1.00         3\n",
      "          26       1.00      1.00      1.00         2\n",
      "          27       1.00      1.00      1.00         3\n",
      "          28       1.00      1.00      1.00         3\n",
      "          29       0.75      1.00      0.86         3\n",
      "          30       1.00      1.00      1.00         1\n",
      "          31       1.00      1.00      1.00         4\n",
      "          32       1.00      1.00      1.00         4\n",
      "          33       1.00      1.00      1.00         2\n",
      "          34       1.00      1.00      1.00         5\n",
      "          35       1.00      0.75      0.86         4\n",
      "          36       1.00      1.00      1.00         2\n",
      "          37       0.67      1.00      0.80         2\n",
      "          38       1.00      1.00      1.00         2\n",
      "          39       0.50      0.67      0.57         3\n",
      "\n",
      "    accuracy                           0.92       120\n",
      "   macro avg       0.92      0.93      0.91       120\n",
      "weighted avg       0.94      0.92      0.92       120\n",
      "\n"
     ]
    }
   ],
   "source": [
    "from sklearn.decomposition import PCA\n",
    "pca = PCA(n_components = 45).fit(X_train_)\n",
    "Z_train = pca.transform(X_train_)\n",
    "Z_test = pca.transform(X_test_)\n",
    "opts = dict(tol = 1e-6, max_iter = int(1e6), verbose=1)\n",
    "solver = \"liblinear\"\n",
    "clf_PCA = LogisticRegression(solver = solver, **opts)\n",
    "clf_PCA.fit(Z_train, y_train)\n",
    "y_pred = clf_PCA.predict(Z_test)\n",
    "print(f\"{clf_PCA.score(Z_test, y_test):.2%}\\n\")\n",
    "print(classification_report(y_test, y_pred))"
   ]
  },
  {
   "cell_type": "markdown",
   "metadata": {},
   "source": [
    "結果說明 :\n",
    "1. 測試資料之準確率91.67%。\n",
    "2. 在加權平均的評估指標中，精確率、召回率和F1分數分別為0.94、0.92、0.92，這表示考慮到每個類別的樣本數量後，模型的整體性能仍然非常好。"
   ]
  },
  {
   "cell_type": "markdown",
   "metadata": {},
   "source": [
    "演算法(newton-cg)"
   ]
  },
  {
   "cell_type": "code",
   "execution_count": 22,
   "metadata": {},
   "outputs": [
    {
     "name": "stdout",
     "output_type": "stream",
     "text": [
      "94.17%\n",
      "\n",
      "              precision    recall  f1-score   support\n",
      "\n",
      "           0       1.00      0.60      0.75         5\n",
      "           1       1.00      1.00      1.00         6\n",
      "           2       0.67      1.00      0.80         2\n",
      "           3       1.00      0.67      0.80         3\n",
      "           4       1.00      1.00      1.00         4\n",
      "           5       1.00      1.00      1.00         3\n",
      "           6       1.00      1.00      1.00         5\n",
      "           7       1.00      0.50      0.67         2\n",
      "           8       1.00      1.00      1.00         3\n",
      "           9       1.00      0.67      0.80         3\n",
      "          10       1.00      1.00      1.00         3\n",
      "          11       1.00      1.00      1.00         4\n",
      "          12       0.50      0.67      0.57         3\n",
      "          13       1.00      1.00      1.00         3\n",
      "          14       0.50      1.00      0.67         1\n",
      "          15       1.00      1.00      1.00         4\n",
      "          16       1.00      1.00      1.00         3\n",
      "          17       1.00      1.00      1.00         1\n",
      "          18       1.00      1.00      1.00         2\n",
      "          19       1.00      1.00      1.00         1\n",
      "          20       1.00      1.00      1.00         3\n",
      "          21       1.00      1.00      1.00         3\n",
      "          22       1.00      1.00      1.00         3\n",
      "          23       1.00      1.00      1.00         5\n",
      "          24       1.00      1.00      1.00         2\n",
      "          25       1.00      1.00      1.00         3\n",
      "          26       1.00      1.00      1.00         2\n",
      "          27       1.00      1.00      1.00         3\n",
      "          28       1.00      1.00      1.00         3\n",
      "          29       0.75      1.00      0.86         3\n",
      "          30       1.00      1.00      1.00         1\n",
      "          31       1.00      1.00      1.00         4\n",
      "          32       1.00      1.00      1.00         4\n",
      "          33       1.00      1.00      1.00         2\n",
      "          34       1.00      1.00      1.00         5\n",
      "          35       1.00      0.75      0.86         4\n",
      "          36       1.00      1.00      1.00         2\n",
      "          37       1.00      1.00      1.00         2\n",
      "          38       1.00      1.00      1.00         2\n",
      "          39       0.60      1.00      0.75         3\n",
      "\n",
      "    accuracy                           0.94       120\n",
      "   macro avg       0.95      0.95      0.94       120\n",
      "weighted avg       0.96      0.94      0.94       120\n",
      "\n"
     ]
    }
   ],
   "source": [
    "from sklearn.decomposition import PCA\n",
    "pca = PCA(n_components = 45).fit(X_train_)\n",
    "Z_train = pca.transform(X_train_)\n",
    "Z_test = pca.transform(X_test_)\n",
    "opts = dict(tol = 1e-6, max_iter = int(1e6), verbose=1)\n",
    "solver = \"newton-cg\"\n",
    "clf_PCA = LogisticRegression(solver = solver, **opts)\n",
    "clf_PCA.fit(Z_train, y_train)\n",
    "y_pred = clf_PCA.predict(Z_test)\n",
    "print(f\"{clf_PCA.score(Z_test, y_test):.2%}\\n\")\n",
    "print(classification_report(y_test, y_pred))"
   ]
  },
  {
   "cell_type": "markdown",
   "metadata": {},
   "source": [
    "結果說明 :\n",
    "1. 測試資料之準確率94.17%。\n",
    "2. 在加權平均的評估指標中，精確率、召回率和F1分數分別為0.96、0.94、0.94，這表示考慮到每個類別的樣本數量後，模型的整體性能仍然非常好。"
   ]
  },
  {
   "cell_type": "markdown",
   "metadata": {},
   "source": [
    "### 使用網格搜索（GridSearchCV）來尋找最佳的參數組合\n"
   ]
  },
  {
   "cell_type": "markdown",
   "metadata": {},
   "source": [
    "程式碼說明:\n",
    "1. 設定參數網格\n",
    "2. 進行網格搜索(GridSearchCV)\n",
    "3. 輸出最佳參數：網格搜索完成後，輸出找到的最佳參數組合\n",
    "4. 預測並評估模型：使用訓練好的模型對測試數據進行預測，並輸出模型在測試數據上的準確度和分類報告"
   ]
  },
  {
   "cell_type": "code",
   "execution_count": 13,
   "metadata": {},
   "outputs": [
    {
     "name": "stdout",
     "output_type": "stream",
     "text": [
      "Fitting 3 folds for each of 27 candidates, totalling 81 fits\n",
      "Best Parameters:  {'max_iter': 10000, 'solver': 'liblinear', 'tol': 0.0001}\n",
      "95.00%\n",
      "\n",
      "95.00%\n",
      "\n",
      "              precision    recall  f1-score   support\n",
      "\n",
      "           0       1.00      1.00      1.00         2\n",
      "           1       1.00      1.00      1.00         3\n",
      "           2       0.75      1.00      0.86         3\n",
      "           3       1.00      0.67      0.80         3\n",
      "           4       1.00      0.80      0.89         5\n",
      "           5       1.00      1.00      1.00         2\n",
      "           6       1.00      1.00      1.00         1\n",
      "           7       1.00      1.00      1.00         3\n",
      "           8       1.00      1.00      1.00         2\n",
      "           9       1.00      0.67      0.80         3\n",
      "          10       1.00      1.00      1.00         3\n",
      "          11       1.00      1.00      1.00         2\n",
      "          12       1.00      1.00      1.00         2\n",
      "          13       1.00      1.00      1.00         4\n",
      "          14       0.67      1.00      0.80         2\n",
      "          15       1.00      1.00      1.00         4\n",
      "          16       1.00      1.00      1.00         1\n",
      "          17       1.00      1.00      1.00         3\n",
      "          18       1.00      1.00      1.00         2\n",
      "          19       1.00      1.00      1.00         3\n",
      "          20       1.00      1.00      1.00         2\n",
      "          21       1.00      1.00      1.00         2\n",
      "          22       1.00      0.80      0.89         5\n",
      "          23       1.00      1.00      1.00         3\n",
      "          24       1.00      1.00      1.00         2\n",
      "          25       1.00      0.67      0.80         3\n",
      "          26       1.00      1.00      1.00         2\n",
      "          28       1.00      1.00      1.00         3\n",
      "          29       1.00      1.00      1.00         2\n",
      "          30       1.00      1.00      1.00         4\n",
      "          33       1.00      1.00      1.00         2\n",
      "          34       1.00      1.00      1.00         2\n",
      "          35       0.50      1.00      0.67         1\n",
      "          36       1.00      1.00      1.00         4\n",
      "          37       0.80      1.00      0.89         4\n",
      "          38       1.00      1.00      1.00         3\n",
      "          39       0.75      1.00      0.86         3\n",
      "\n",
      "    accuracy                           0.95       100\n",
      "   macro avg       0.96      0.96      0.95       100\n",
      "weighted avg       0.97      0.95      0.95       100\n",
      "\n"
     ]
    }
   ],
   "source": [
    "from sklearn.model_selection import GridSearchCV\n",
    "from sklearn.linear_model import LogisticRegression\n",
    "from sklearn.decomposition import PCA\n",
    "from sklearn.metrics import accuracy_score, classification_report\n",
    "\n",
    "# 定義要搜索的參數\n",
    "param_grid = {\n",
    "    'solver': ['newton-cg', 'lbfgs', 'liblinear'],\n",
    "    'tol': [1e-4, 1e-5, 1e-6],\n",
    "    'max_iter': [ int(1e4), int(1e5), int(1e6)]\n",
    "}\n",
    "\n",
    "# 使用PCA降維\n",
    "pca = PCA(n_components = 45).fit(X_train_)\n",
    "Z_train = pca.transform(X_train_)\n",
    "Z_test = pca.transform(X_test_)\n",
    "\n",
    "# 建立模型\n",
    "clf_PCA = LogisticRegression()\n",
    "\n",
    "# 建立GridSearchCV\n",
    "clf_PCA_gs = GridSearchCV(clf_PCA, param_grid, verbose=1, cv=3, n_jobs=-1)\n",
    "\n",
    "# 訓練模型\n",
    "clf_PCA_gs.fit(Z_train, y_train)\n",
    "\n",
    "# 打印最佳參數\n",
    "print(\"Best Parameters: \", clf_PCA_gs.best_params_)\n",
    "\n",
    "# 預測測試資料\n",
    "y_pred = clf_PCA_gs.predict(Z_test)\n",
    "\n",
    "# 測試資料之準確率回報\n",
    "print(f\"{accuracy_score(y_test, y_pred):.2%}\\n\")\n",
    "print(f\"{clf_PCA_gs.score(Z_test, y_test):.2%}\\n\")\n",
    "print(classification_report(y_test, y_pred))"
   ]
  },
  {
   "cell_type": "markdown",
   "metadata": {},
   "source": [
    "結果說明 :\n",
    "\n",
    "三種演算法表現最好的是liblinear，參數設定是('max_iter': 10000, 'solver': 'liblinear', 'tol': 0.0001)，測試資料之準確率達到95%。"
   ]
  },
  {
   "cell_type": "markdown",
   "metadata": {},
   "source": [
    "### 將主成分逐漸調高（直到 281），觀察準確率的變化，並畫一張折線圖來比較（與 scree plot 對比）。\n",
    "選用lbfgs演算法"
   ]
  },
  {
   "cell_type": "code",
   "execution_count": 18,
   "metadata": {},
   "outputs": [
    {
     "data": {
      "image/png": "[encoded data removed]",
      "text/plain": [
       "<Figure size 2000x600 with 2 Axes>"
      ]
     },
     "metadata": {},
     "output_type": "display_data"
    }
   ],
   "source": [
    "import matplotlib.pyplot as plt\n",
    "\n",
    "# Initialize an empty list to store accuracy for each number of components\n",
    "accuracy_scores = []\n",
    "solver = \"lbfgs\"\n",
    "# Loop over number of components from 1 to 13\n",
    "for i in range(1, 281):\n",
    "    pca = PCA(n_components=i).fit(X_train_)\n",
    "    Z_train = pca.transform(X_train_)\n",
    "    Z_test = pca.transform(X_test_)\n",
    "    clf_PCA = LogisticRegression(solver=solver, **opts)\n",
    "    clf_PCA.fit(Z_train, y_train)\n",
    "    y_pred = clf_PCA.predict(Z_test)\n",
    "    accuracy = clf_PCA.score(Z_test, y_test)\n",
    "    accuracy_scores.append(accuracy)\n",
    "\n",
    "# Create a figure and a grid of subplots\n",
    "fig, (ax1, ax2) = plt.subplots(nrows=1, ncols=2, figsize=(20, 6))\n",
    "\n",
    "# Plot the accuracy scores on the first subplot\n",
    "ax1.plot(range(1, 281), accuracy_scores, marker='o', linestyle='-')\n",
    "ax1.set_title('Accuracy vs. Number of PCA Components')\n",
    "ax1.set_xlabel('Number of PCA Components')\n",
    "ax1.set_ylabel('Accuracy')\n",
    "ax1.grid(True)\n",
    "\n",
    "# Fit PCA on the training data\n",
    "pca = PCA().fit(X_train_)\n",
    "\n",
    "# Calculate explained variance ratio for each component\n",
    "explained_variance_ratio = pca.explained_variance_ratio_\n",
    "\n",
    "# Plot the explained variance ratio on the second subplot\n",
    "ax2.plot(range(1, 281), explained_variance_ratio, marker='o', linestyle='-')\n",
    "ax2.set_title('Scree Plot')\n",
    "ax2.set_xlabel('Number of PCA Components')\n",
    "ax2.set_ylabel('Explained Variance Ratio')\n",
    "ax2.grid(True)\n",
    "\n",
    "# Display the figure with the two subplots\n",
    "plt.show()"
   ]
  },
  {
   "cell_type": "markdown",
   "metadata": {},
   "source": [
    "結果說明 :\n",
    "1. 從 Scree Plot 來看，將主成分逐漸調高，Explained Variance Ratio隨之降低。\n",
    "2. 從左圖來看，只採用第一個主成分時，測試資料之準確率大約等於10%，隨著主成分逐漸調高，測試資料之準確率皆維持在大約等於90幾%。\n",
    "3. 以上說明採用越多主成分，Explained Variance Ratio隨之降低，測試資料之準確率隨之提升。"
   ]
  },
  {
   "cell_type": "markdown",
   "metadata": {},
   "source": [
    "## (三)SVM 分群"
   ]
  },
  {
   "cell_type": "markdown",
   "metadata": {},
   "source": [
    "### (1)以標準化後之原始資料的訓練資料學習，並以測試資料測試準確率"
   ]
  },
  {
   "cell_type": "markdown",
   "metadata": {},
   "source": [
    "kernel(linear)"
   ]
  },
  {
   "cell_type": "code",
   "execution_count": 51,
   "metadata": {},
   "outputs": [],
   "source": [
    "from sklearn.metrics import accuracy_score, classification_report\n",
    "from sklearn.svm import SVC\n",
    "from sklearn.svm import LinearSVC\n",
    "\n",
    "def train_and_evaluate(clf, X_train, X_test, y_train, y_test):\n",
    "    # Fit the classifier with the data\n",
    "    clf.fit(X_train, y_train)\n",
    "\n",
    "    # Predict the labels of the test data\n",
    "    predictions = clf.predict(X_test)\n",
    "\n",
    "    # Calculate and print the accuracy score\n",
    "    acc_score = accuracy_score(y_test, predictions)\n",
    "    print(f\"Accuracy Score: {acc_score:.2%}\")\n",
    "\n",
    "    # Print the classification report\n",
    "    print(classification_report(y_test, predictions, zero_division=0))\n",
    "    \n",
    "# Define the SVM classifier\n",
    "C = 1 # SVM regularization parameter\n",
    "opts = dict(C = C, tol = 1e-6, max_iter = int(1e6))"
   ]
  },
  {
   "cell_type": "markdown",
   "metadata": {},
   "source": [
    "kernel(linear)"
   ]
  },
  {
   "cell_type": "code",
   "execution_count": 46,
   "metadata": {},
   "outputs": [
    {
     "name": "stdout",
     "output_type": "stream",
     "text": [
      "Accuracy Score: 94.17%\n",
      "              precision    recall  f1-score   support\n",
      "\n",
      "           0       1.00      0.60      0.75         5\n",
      "           1       1.00      1.00      1.00         6\n",
      "           2       1.00      1.00      1.00         2\n",
      "           3       1.00      0.67      0.80         3\n",
      "           4       1.00      0.75      0.86         4\n",
      "           5       1.00      1.00      1.00         3\n",
      "           6       1.00      1.00      1.00         5\n",
      "           7       1.00      0.50      0.67         2\n",
      "           8       1.00      1.00      1.00         3\n",
      "           9       1.00      0.67      0.80         3\n",
      "          10       1.00      1.00      1.00         3\n",
      "          11       1.00      1.00      1.00         4\n",
      "          12       0.67      0.67      0.67         3\n",
      "          13       1.00      1.00      1.00         3\n",
      "          14       0.50      1.00      0.67         1\n",
      "          15       1.00      1.00      1.00         4\n",
      "          16       1.00      1.00      1.00         3\n",
      "          17       1.00      1.00      1.00         1\n",
      "          18       1.00      1.00      1.00         2\n",
      "          19       1.00      1.00      1.00         1\n",
      "          20       1.00      1.00      1.00         3\n",
      "          21       1.00      1.00      1.00         3\n",
      "          22       1.00      1.00      1.00         3\n",
      "          23       1.00      1.00      1.00         5\n",
      "          24       1.00      1.00      1.00         2\n",
      "          25       1.00      1.00      1.00         3\n",
      "          26       1.00      1.00      1.00         2\n",
      "          27       1.00      1.00      1.00         3\n",
      "          28       1.00      1.00      1.00         3\n",
      "          29       1.00      1.00      1.00         3\n",
      "          30       1.00      1.00      1.00         1\n",
      "          31       1.00      1.00      1.00         4\n",
      "          32       1.00      1.00      1.00         4\n",
      "          33       1.00      1.00      1.00         2\n",
      "          34       0.83      1.00      0.91         5\n",
      "          35       1.00      1.00      1.00         4\n",
      "          36       1.00      1.00      1.00         2\n",
      "          37       0.67      1.00      0.80         2\n",
      "          38       1.00      1.00      1.00         2\n",
      "          39       0.50      1.00      0.67         3\n",
      "\n",
      "    accuracy                           0.94       120\n",
      "   macro avg       0.95      0.95      0.94       120\n",
      "weighted avg       0.96      0.94      0.94       120\n",
      "\n"
     ]
    }
   ],
   "source": [
    "clf_svm = SVC(kernel=\"linear\", **opts)\n",
    "train_and_evaluate(clf_svm, X_train, X_test, y_train, y_test)"
   ]
  },
  {
   "cell_type": "markdown",
   "metadata": {},
   "source": [
    "結果說明 :\n",
    "1. 測試資料之準確率94.17%。\n",
    "2. 在加權平均的評估指標中，精確率、召回率和F1分數分別為0.96、0.94、0.94，這表示考慮到每個類別的樣本數量後，模型的整體性能仍然非常好。"
   ]
  },
  {
   "cell_type": "markdown",
   "metadata": {},
   "source": [
    "kernel(rbf)"
   ]
  },
  {
   "cell_type": "code",
   "execution_count": 47,
   "metadata": {},
   "outputs": [
    {
     "name": "stdout",
     "output_type": "stream",
     "text": [
      "Accuracy Score: 2.50%\n",
      "              precision    recall  f1-score   support\n",
      "\n",
      "           0       0.00      0.00      0.00         5\n",
      "           1       0.00      0.00      0.00         6\n",
      "           2       0.00      0.00      0.00         2\n",
      "           3       0.00      0.00      0.00         3\n",
      "           4       1.00      0.25      0.40         4\n",
      "           5       0.00      0.00      0.00         3\n",
      "           6       0.00      0.00      0.00         5\n",
      "           7       0.00      0.00      0.00         2\n",
      "           8       0.00      0.00      0.00         3\n",
      "           9       0.00      0.00      0.00         3\n",
      "          10       0.00      0.00      0.00         3\n",
      "          11       0.00      0.00      0.00         4\n",
      "          12       0.00      0.00      0.00         3\n",
      "          13       0.00      0.00      0.00         3\n",
      "          14       0.00      0.00      0.00         1\n",
      "          15       0.00      0.00      0.00         4\n",
      "          16       0.00      0.00      0.00         3\n",
      "          17       1.00      1.00      1.00         1\n",
      "          18       0.00      0.00      0.00         2\n",
      "          19       0.01      1.00      0.02         1\n",
      "          20       0.00      0.00      0.00         3\n",
      "          21       0.00      0.00      0.00         3\n",
      "          22       0.00      0.00      0.00         3\n",
      "          23       0.00      0.00      0.00         5\n",
      "          24       0.00      0.00      0.00         2\n",
      "          25       0.00      0.00      0.00         3\n",
      "          26       0.00      0.00      0.00         2\n",
      "          27       0.00      0.00      0.00         3\n",
      "          28       0.00      0.00      0.00         3\n",
      "          29       0.00      0.00      0.00         3\n",
      "          30       0.00      0.00      0.00         1\n",
      "          31       0.00      0.00      0.00         4\n",
      "          32       0.00      0.00      0.00         4\n",
      "          33       0.00      0.00      0.00         2\n",
      "          34       0.00      0.00      0.00         5\n",
      "          35       0.00      0.00      0.00         4\n",
      "          36       0.00      0.00      0.00         2\n",
      "          37       0.00      0.00      0.00         2\n",
      "          38       0.00      0.00      0.00         2\n",
      "          39       0.00      0.00      0.00         3\n",
      "\n",
      "    accuracy                           0.03       120\n",
      "   macro avg       0.05      0.06      0.04       120\n",
      "weighted avg       0.04      0.03      0.02       120\n",
      "\n"
     ]
    }
   ],
   "source": [
    "clf_svm = SVC(kernel=\"rbf\", gamma=0.2, **opts)\n",
    "train_and_evaluate(clf_svm, X_train, X_test, y_train, y_test)"
   ]
  },
  {
   "cell_type": "markdown",
   "metadata": {},
   "source": [
    "結果說明 :\n",
    "1. 測試資料之準確率2.5%。\n",
    "2. 在加權平均的評估指標中，精確率、召回率和F1分數分別為0.04、0.03、0.02，這表示考慮到每個類別的樣本數量後，模型的整體性能。"
   ]
  },
  {
   "cell_type": "markdown",
   "metadata": {},
   "source": [
    "kernel(poly)"
   ]
  },
  {
   "cell_type": "code",
   "execution_count": 48,
   "metadata": {},
   "outputs": [
    {
     "name": "stdout",
     "output_type": "stream",
     "text": [
      "Accuracy Score: 3.33%\n",
      "              precision    recall  f1-score   support\n",
      "\n",
      "           0       0.00      0.00      0.00         5\n",
      "           1       0.00      0.00      0.00         6\n",
      "           2       0.00      0.00      0.00         2\n",
      "           3       0.00      0.00      0.00         3\n",
      "           4       0.00      0.00      0.00         4\n",
      "           5       0.00      0.00      0.00         3\n",
      "           6       0.00      0.00      0.00         5\n",
      "           7       0.00      0.00      0.00         2\n",
      "           8       0.00      0.00      0.00         3\n",
      "           9       0.00      0.00      0.00         3\n",
      "          10       0.00      0.00      0.00         3\n",
      "          11       0.00      0.00      0.00         4\n",
      "          12       0.00      0.00      0.00         3\n",
      "          13       0.00      0.00      0.00         3\n",
      "          14       0.02      1.00      0.05         1\n",
      "          15       0.00      0.00      0.00         4\n",
      "          16       0.00      0.00      0.00         3\n",
      "          17       0.04      1.00      0.08         1\n",
      "          18       0.00      0.00      0.00         2\n",
      "          19       0.14      1.00      0.25         1\n",
      "          20       0.00      0.00      0.00         3\n",
      "          21       0.00      0.00      0.00         3\n",
      "          22       0.00      0.00      0.00         3\n",
      "          23       0.00      0.00      0.00         5\n",
      "          24       0.00      0.00      0.00         2\n",
      "          25       0.00      0.00      0.00         3\n",
      "          26       0.00      0.00      0.00         2\n",
      "          27       0.00      0.00      0.00         3\n",
      "          28       0.00      0.00      0.00         3\n",
      "          29       0.00      0.00      0.00         3\n",
      "          30       0.02      1.00      0.04         1\n",
      "          31       0.00      0.00      0.00         4\n",
      "          32       0.00      0.00      0.00         4\n",
      "          33       0.00      0.00      0.00         2\n",
      "          34       0.00      0.00      0.00         5\n",
      "          35       0.00      0.00      0.00         4\n",
      "          36       0.00      0.00      0.00         2\n",
      "          37       0.00      0.00      0.00         2\n",
      "          38       0.00      0.00      0.00         2\n",
      "          39       0.00      0.00      0.00         3\n",
      "\n",
      "    accuracy                           0.03       120\n",
      "   macro avg       0.01      0.10      0.01       120\n",
      "weighted avg       0.00      0.03      0.00       120\n",
      "\n"
     ]
    }
   ],
   "source": [
    "clf_svm = SVC(kernel=\"poly\", degree=3, gamma=\"auto\", **opts)\n",
    "train_and_evaluate(clf_svm, X_train, X_test, y_train, y_test)"
   ]
  },
  {
   "cell_type": "markdown",
   "metadata": {},
   "source": [
    "結果說明 :\n",
    "1. 測試資料之準確率3.33%。\n",
    "2. 在加權平均的評估指標中，精確率、召回率和F1分數分別為0.00、0.03、0.0，這表示考慮到每個類別的樣本數量後，模型的整體性能。"
   ]
  },
  {
   "cell_type": "markdown",
   "metadata": {},
   "source": [
    "kernel(LinearSVC : \"one-vs-rest\")"
   ]
  },
  {
   "cell_type": "code",
   "execution_count": 53,
   "metadata": {},
   "outputs": [
    {
     "name": "stdout",
     "output_type": "stream",
     "text": [
      "Accuracy Score: 92.50%\n",
      "              precision    recall  f1-score   support\n",
      "\n",
      "           0       1.00      0.60      0.75         5\n",
      "           1       1.00      1.00      1.00         6\n",
      "           2       0.67      1.00      0.80         2\n",
      "           3       1.00      0.67      0.80         3\n",
      "           4       1.00      0.75      0.86         4\n",
      "           5       1.00      1.00      1.00         3\n",
      "           6       1.00      1.00      1.00         5\n",
      "           7       0.50      0.50      0.50         2\n",
      "           8       1.00      1.00      1.00         3\n",
      "           9       1.00      0.67      0.80         3\n",
      "          10       1.00      1.00      1.00         3\n",
      "          11       1.00      1.00      1.00         4\n",
      "          12       1.00      0.67      0.80         3\n",
      "          13       1.00      1.00      1.00         3\n",
      "          14       1.00      1.00      1.00         1\n",
      "          15       1.00      1.00      1.00         4\n",
      "          16       1.00      1.00      1.00         3\n",
      "          17       1.00      1.00      1.00         1\n",
      "          18       1.00      1.00      1.00         2\n",
      "          19       1.00      1.00      1.00         1\n",
      "          20       1.00      1.00      1.00         3\n",
      "          21       1.00      1.00      1.00         3\n",
      "          22       1.00      1.00      1.00         3\n",
      "          23       1.00      0.80      0.89         5\n",
      "          24       1.00      1.00      1.00         2\n",
      "          25       1.00      1.00      1.00         3\n",
      "          26       1.00      1.00      1.00         2\n",
      "          27       1.00      1.00      1.00         3\n",
      "          28       1.00      1.00      1.00         3\n",
      "          29       0.75      1.00      0.86         3\n",
      "          30       1.00      1.00      1.00         1\n",
      "          31       1.00      1.00      1.00         4\n",
      "          32       1.00      1.00      1.00         4\n",
      "          33       1.00      1.00      1.00         2\n",
      "          34       1.00      1.00      1.00         5\n",
      "          35       0.75      0.75      0.75         4\n",
      "          36       1.00      1.00      1.00         2\n",
      "          37       0.67      1.00      0.80         2\n",
      "          38       1.00      1.00      1.00         2\n",
      "          39       0.43      1.00      0.60         3\n",
      "\n",
      "    accuracy                           0.93       120\n",
      "   macro avg       0.94      0.93      0.93       120\n",
      "weighted avg       0.95      0.93      0.93       120\n",
      "\n"
     ]
    }
   ],
   "source": [
    "clf_svm = LinearSVC(dual=False, **opts) # one vs the rest\n",
    "train_and_evaluate(clf_svm, X_train, X_test, y_train, y_test)"
   ]
  },
  {
   "cell_type": "markdown",
   "metadata": {},
   "source": [
    "結果說明 :\n",
    "1. 測試資料之準確率92.50%。\n",
    "2. 在加權平均的評估指標中，精確率、召回率和F1分數分別為0.95、0.93、0.93，這表示考慮到每個類別的樣本數量後，模型的整體性能仍然非常好。"
   ]
  },
  {
   "cell_type": "markdown",
   "metadata": {},
   "source": [
    "### 使用網格搜索（GridSearchCV）來尋找最佳的參數組合\n"
   ]
  },
  {
   "cell_type": "markdown",
   "metadata": {},
   "source": [
    "程式碼說明:\n",
    "1. 設定參數網格\n",
    "2. 進行網格搜索(GridSearchCV)\n",
    "3. 輸出最佳參數：網格搜索完成後，輸出找到的最佳參數組合\n",
    "4. 預測並評估模型：使用訓練好的模型對測試數據進行預測，並輸出模型在測試數據上的準確度和分類報告"
   ]
  },
  {
   "cell_type": "code",
   "execution_count": 15,
   "metadata": {},
   "outputs": [
    {
     "name": "stdout",
     "output_type": "stream",
     "text": [
      "Fitting 3 folds for each of 9 candidates, totalling 27 fits\n",
      "Fitting 3 folds for each of 9 candidates, totalling 27 fits\n",
      "Fitting 3 folds for each of 9 candidates, totalling 27 fits\n",
      "Fitting 3 folds for each of 9 candidates, totalling 27 fits\n",
      "Best Classifier: SVC_linear\n",
      "Best Parameters:  {'max_iter': 10000, 'tol': 0.0001}\n",
      "Best Accuracy: 98.00%\n",
      "\n",
      "Classification Report for SVC_linear:\n",
      "               precision    recall  f1-score   support\n",
      "\n",
      "           0       1.00      1.00      1.00         2\n",
      "           1       1.00      1.00      1.00         3\n",
      "           2       1.00      1.00      1.00         3\n",
      "           3       1.00      1.00      1.00         3\n",
      "           4       1.00      0.80      0.89         5\n",
      "           5       1.00      1.00      1.00         2\n",
      "           6       1.00      1.00      1.00         1\n",
      "           7       1.00      1.00      1.00         3\n",
      "           8       1.00      1.00      1.00         2\n",
      "           9       1.00      0.67      0.80         3\n",
      "          10       1.00      1.00      1.00         3\n",
      "          11       1.00      1.00      1.00         2\n",
      "          12       1.00      1.00      1.00         2\n",
      "          13       1.00      1.00      1.00         4\n",
      "          14       1.00      1.00      1.00         2\n",
      "          15       1.00      1.00      1.00         4\n",
      "          16       1.00      1.00      1.00         1\n",
      "          17       1.00      1.00      1.00         3\n",
      "          18       1.00      1.00      1.00         2\n",
      "          19       1.00      1.00      1.00         3\n",
      "          20       1.00      1.00      1.00         2\n",
      "          21       1.00      1.00      1.00         2\n",
      "          22       1.00      1.00      1.00         5\n",
      "          23       1.00      1.00      1.00         3\n",
      "          24       1.00      1.00      1.00         2\n",
      "          25       1.00      1.00      1.00         3\n",
      "          26       1.00      1.00      1.00         2\n",
      "          28       1.00      1.00      1.00         3\n",
      "          29       1.00      1.00      1.00         2\n",
      "          30       1.00      1.00      1.00         4\n",
      "          33       1.00      1.00      1.00         2\n",
      "          34       1.00      1.00      1.00         2\n",
      "          35       1.00      1.00      1.00         1\n",
      "          36       1.00      1.00      1.00         4\n",
      "          37       1.00      1.00      1.00         4\n",
      "          38       1.00      1.00      1.00         3\n",
      "          39       0.60      1.00      0.75         3\n",
      "\n",
      "    accuracy                           0.98       100\n",
      "   macro avg       0.99      0.99      0.98       100\n",
      "weighted avg       0.99      0.98      0.98       100\n",
      "\n"
     ]
    }
   ],
   "source": [
    "from sklearn.model_selection import GridSearchCV\n",
    "from sklearn.svm import SVC, LinearSVC\n",
    "from sklearn.metrics import accuracy_score, classification_report\n",
    "\n",
    "# Define the parameter grid for GridSearchCV\n",
    "param_grid = {\n",
    "    'tol': [1e-4, 1e-5, 1e-6],\n",
    "    'max_iter': [int(1e4), int(1e5), int(1e6)]\n",
    "}\n",
    "\n",
    "# Define the classifiers\n",
    "classifiers = {\n",
    "    'SVC_linear': SVC(kernel='linear', max_iter=int(1e6)),\n",
    "    'SVC_rbf': SVC(kernel='rbf', max_iter=int(1e6)),\n",
    "    'SVC_poly': SVC(kernel='poly', max_iter=int(1e6)),\n",
    "    'LinearSVC': LinearSVC(max_iter=int(1e6), dual=False)\n",
    "}\n",
    "\n",
    "# Initialize the best accuracy and classifier\n",
    "best_accuracy = 0\n",
    "best_classifier = None\n",
    "best_params = None\n",
    "best_report = None\n",
    "\n",
    "# For each classifier\n",
    "for name, clf in classifiers.items():\n",
    "    # Define the GridSearchCV\n",
    "    clf_gs = GridSearchCV(clf, param_grid, verbose=1, cv=3, n_jobs=-1)\n",
    "\n",
    "    # Train the model\n",
    "    clf_gs.fit(X_train, y_train)\n",
    "\n",
    "    # Predict the test data\n",
    "    y_pred = clf_gs.predict(X_test)\n",
    "\n",
    "    # Calculate the accuracy score\n",
    "    accuracy = accuracy_score(y_test, y_pred)\n",
    "\n",
    "    # If the accuracy is better than the current best, update the best accuracy, classifier, parameters, and report\n",
    "    if accuracy > best_accuracy:\n",
    "        best_accuracy = accuracy\n",
    "        best_classifier = name\n",
    "        best_params = clf_gs.best_params_\n",
    "        best_report = classification_report(y_test, y_pred)\n",
    "\n",
    "# Print the best results\n",
    "print(f\"Best Classifier: {best_classifier}\")\n",
    "print(f\"Best Parameters: \", best_params)\n",
    "print(f\"Best Accuracy: {best_accuracy:.2%}\\n\")\n",
    "print(f\"Classification Report for {best_classifier}:\\n\", best_report)"
   ]
  },
  {
   "cell_type": "markdown",
   "metadata": {},
   "source": [
    "\n",
    "結果說明 :\n",
    "\n",
    "三種kernel表現最好的是SVC_linear，參數設定是('max_iter': 10000, 'tol': 0.0001)，測試資料之準確率達到98%。"
   ]
  },
  {
   "cell_type": "markdown",
   "metadata": {},
   "source": [
    "### (2)以標準化後之原始資料的主成分之訓練資料學習，並以測試資料測試準確率"
   ]
  },
  {
   "cell_type": "markdown",
   "metadata": {},
   "source": [
    "程式碼說明 :\n",
    "1. 使用 PCA 對訓練數據 X_train_ 進行擬合，並將其降維到兩個主成分。\n",
    "2. 使用訓練好的 PCA 模型將訓練數據和測試數據轉換到新的低維空間，得到 Z_train 和 Z_test。\n",
    "3. 定義SVM分類器。設置SVM的正則化參數C為1，並將其與其他參數一起存儲在opts中。\n",
    "4. 使用PCA轉換後的訓練數據Z_train和對應的標籤y_train來訓練SVM分類器。\n",
    "5. 輸出模型的分類報告。"
   ]
  },
  {
   "cell_type": "code",
   "execution_count": 58,
   "metadata": {},
   "outputs": [],
   "source": [
    "from sklearn.decomposition import PCA\n",
    "from sklearn.metrics import accuracy_score, classification_report\n",
    "\n",
    "def train_and_evaluate(clf_svm, X_train_, X_test_, y_train, y_test):\n",
    "    # Apply PCA to the training data and transform it\n",
    "    pca = PCA(n_components = 45).fit(X_train_)\n",
    "    Z_train = pca.transform(X_train_)\n",
    "    Z_test = pca.transform(X_test_)\n",
    "\n",
    "    # Fit the SVM classifier with the PCA transformed data\n",
    "    clf_svm.fit(Z_train, y_train)\n",
    "\n",
    "    # Predict the labels of the PCA transformed test data\n",
    "    predictions = clf_svm.predict(Z_test)\n",
    "\n",
    "    # Calculate and print the accuracy score\n",
    "    acc_score = accuracy_score(y_test, predictions)\n",
    "    print(f\"Accuracy Score: {acc_score:.2%}\")\n",
    "\n",
    "    # Print the classification report\n",
    "    print(classification_report(y_test, predictions, zero_division=0))\n",
    "\n",
    "# Define the SVM classifier\n",
    "C = 1 # SVM regularization parameter\n",
    "opts = dict(C = C, tol = 1e-6, max_iter = int(1e6))\n"
   ]
  },
  {
   "cell_type": "markdown",
   "metadata": {},
   "source": [
    "kernel(linear)"
   ]
  },
  {
   "cell_type": "code",
   "execution_count": 59,
   "metadata": {},
   "outputs": [
    {
     "name": "stdout",
     "output_type": "stream",
     "text": [
      "Accuracy Score: 92.50%\n",
      "              precision    recall  f1-score   support\n",
      "\n",
      "           0       1.00      0.60      0.75         5\n",
      "           1       1.00      1.00      1.00         6\n",
      "           2       1.00      1.00      1.00         2\n",
      "           3       1.00      0.67      0.80         3\n",
      "           4       0.75      0.75      0.75         4\n",
      "           5       1.00      1.00      1.00         3\n",
      "           6       1.00      1.00      1.00         5\n",
      "           7       1.00      0.50      0.67         2\n",
      "           8       1.00      1.00      1.00         3\n",
      "           9       1.00      0.67      0.80         3\n",
      "          10       1.00      1.00      1.00         3\n",
      "          11       1.00      1.00      1.00         4\n",
      "          12       0.67      0.67      0.67         3\n",
      "          13       1.00      1.00      1.00         3\n",
      "          14       0.50      1.00      0.67         1\n",
      "          15       1.00      1.00      1.00         4\n",
      "          16       1.00      1.00      1.00         3\n",
      "          17       0.50      1.00      0.67         1\n",
      "          18       1.00      1.00      1.00         2\n",
      "          19       1.00      1.00      1.00         1\n",
      "          20       1.00      1.00      1.00         3\n",
      "          21       1.00      1.00      1.00         3\n",
      "          22       1.00      1.00      1.00         3\n",
      "          23       1.00      0.80      0.89         5\n",
      "          24       0.67      1.00      0.80         2\n",
      "          25       1.00      1.00      1.00         3\n",
      "          26       1.00      1.00      1.00         2\n",
      "          27       1.00      1.00      1.00         3\n",
      "          28       1.00      1.00      1.00         3\n",
      "          29       1.00      1.00      1.00         3\n",
      "          30       1.00      1.00      1.00         1\n",
      "          31       1.00      1.00      1.00         4\n",
      "          32       1.00      1.00      1.00         4\n",
      "          33       1.00      1.00      1.00         2\n",
      "          34       0.83      1.00      0.91         5\n",
      "          35       1.00      1.00      1.00         4\n",
      "          36       1.00      1.00      1.00         2\n",
      "          37       0.67      1.00      0.80         2\n",
      "          38       1.00      1.00      1.00         2\n",
      "          39       0.50      0.67      0.57         3\n",
      "\n",
      "    accuracy                           0.93       120\n",
      "   macro avg       0.93      0.93      0.92       120\n",
      "weighted avg       0.94      0.93      0.93       120\n",
      "\n"
     ]
    }
   ],
   "source": [
    "clf_svm = SVC(kernel=\"linear\", **opts)\n",
    "train_and_evaluate(clf_svm, X_train_, X_test_, y_train, y_test)"
   ]
  },
  {
   "cell_type": "markdown",
   "metadata": {},
   "source": [
    "結果說明 :\n",
    "1. 測試資料之準確率92.50%。\n",
    "2. 在加權平均的評估指標中，精確率、召回率和F1分數分別為0.94、0.93、0.93，這表示考慮到每個類別的樣本數量後，模型的整體性能仍然非常好。"
   ]
  },
  {
   "cell_type": "markdown",
   "metadata": {},
   "source": [
    "kernel(rbf)"
   ]
  },
  {
   "cell_type": "code",
   "execution_count": 60,
   "metadata": {},
   "outputs": [
    {
     "name": "stdout",
     "output_type": "stream",
     "text": [
      "Accuracy Score: 0.83%\n",
      "              precision    recall  f1-score   support\n",
      "\n",
      "           0       0.00      0.00      0.00         5\n",
      "           1       0.00      0.00      0.00         6\n",
      "           2       0.00      0.00      0.00         2\n",
      "           3       0.00      0.00      0.00         3\n",
      "           4       0.00      0.00      0.00         4\n",
      "           5       0.00      0.00      0.00         3\n",
      "           6       0.00      0.00      0.00         5\n",
      "           7       0.00      0.00      0.00         2\n",
      "           8       0.00      0.00      0.00         3\n",
      "           9       0.00      0.00      0.00         3\n",
      "          10       0.00      0.00      0.00         3\n",
      "          11       0.00      0.00      0.00         4\n",
      "          12       0.00      0.00      0.00         3\n",
      "          13       0.00      0.00      0.00         3\n",
      "          14       0.00      0.00      0.00         1\n",
      "          15       0.00      0.00      0.00         4\n",
      "          16       0.00      0.00      0.00         3\n",
      "          17       0.01      1.00      0.02         1\n",
      "          18       0.00      0.00      0.00         2\n",
      "          19       0.00      0.00      0.00         1\n",
      "          20       0.00      0.00      0.00         3\n",
      "          21       0.00      0.00      0.00         3\n",
      "          22       0.00      0.00      0.00         3\n",
      "          23       0.00      0.00      0.00         5\n",
      "          24       0.00      0.00      0.00         2\n",
      "          25       0.00      0.00      0.00         3\n",
      "          26       0.00      0.00      0.00         2\n",
      "          27       0.00      0.00      0.00         3\n",
      "          28       0.00      0.00      0.00         3\n",
      "          29       0.00      0.00      0.00         3\n",
      "          30       0.00      0.00      0.00         1\n",
      "          31       0.00      0.00      0.00         4\n",
      "          32       0.00      0.00      0.00         4\n",
      "          33       0.00      0.00      0.00         2\n",
      "          34       0.00      0.00      0.00         5\n",
      "          35       0.00      0.00      0.00         4\n",
      "          36       0.00      0.00      0.00         2\n",
      "          37       0.00      0.00      0.00         2\n",
      "          38       0.00      0.00      0.00         2\n",
      "          39       0.00      0.00      0.00         3\n",
      "\n",
      "    accuracy                           0.01       120\n",
      "   macro avg       0.00      0.03      0.00       120\n",
      "weighted avg       0.00      0.01      0.00       120\n",
      "\n"
     ]
    }
   ],
   "source": [
    "clf_svm = SVC(kernel=\"rbf\", gamma=0.2, **opts)\n",
    "train_and_evaluate(clf_svm, X_train_, X_test_, y_train, y_test)"
   ]
  },
  {
   "cell_type": "markdown",
   "metadata": {},
   "source": [
    "結果說明 :\n",
    "1. 測試資料之準確率0.83%。\n",
    "2. 在加權平均的評估指標中，精確率、召回率和F1分數分別為0.00、0.01、0.00，這表示考慮到每個類別的樣本數量後，模型的整體性非常糟糕。"
   ]
  },
  {
   "cell_type": "markdown",
   "metadata": {},
   "source": [
    "kernel(poly)"
   ]
  },
  {
   "cell_type": "code",
   "execution_count": 61,
   "metadata": {},
   "outputs": [
    {
     "name": "stdout",
     "output_type": "stream",
     "text": [
      "Accuracy Score: 70.00%\n",
      "              precision    recall  f1-score   support\n",
      "\n",
      "           0       1.00      0.40      0.57         5\n",
      "           1       1.00      0.50      0.67         6\n",
      "           2       0.67      1.00      0.80         2\n",
      "           3       0.00      0.00      0.00         3\n",
      "           4       0.75      0.75      0.75         4\n",
      "           5       1.00      1.00      1.00         3\n",
      "           6       1.00      0.20      0.33         5\n",
      "           7       1.00      0.50      0.67         2\n",
      "           8       0.67      0.67      0.67         3\n",
      "           9       1.00      0.67      0.80         3\n",
      "          10       1.00      1.00      1.00         3\n",
      "          11       1.00      0.50      0.67         4\n",
      "          12       0.50      0.33      0.40         3\n",
      "          13       1.00      0.67      0.80         3\n",
      "          14       0.04      1.00      0.08         1\n",
      "          15       0.75      0.75      0.75         4\n",
      "          16       1.00      1.00      1.00         3\n",
      "          17       0.33      1.00      0.50         1\n",
      "          18       1.00      1.00      1.00         2\n",
      "          19       1.00      1.00      1.00         1\n",
      "          20       0.75      1.00      0.86         3\n",
      "          21       1.00      1.00      1.00         3\n",
      "          22       1.00      1.00      1.00         3\n",
      "          23       1.00      0.80      0.89         5\n",
      "          24       0.67      1.00      0.80         2\n",
      "          25       1.00      0.33      0.50         3\n",
      "          26       1.00      1.00      1.00         2\n",
      "          27       0.00      0.00      0.00         3\n",
      "          28       1.00      1.00      1.00         3\n",
      "          29       1.00      1.00      1.00         3\n",
      "          30       1.00      1.00      1.00         1\n",
      "          31       1.00      0.75      0.86         4\n",
      "          32       1.00      1.00      1.00         4\n",
      "          33       1.00      1.00      1.00         2\n",
      "          34       0.75      0.60      0.67         5\n",
      "          35       1.00      0.25      0.40         4\n",
      "          36       1.00      1.00      1.00         2\n",
      "          37       1.00      1.00      1.00         2\n",
      "          38       1.00      1.00      1.00         2\n",
      "          39       0.50      0.67      0.57         3\n",
      "\n",
      "    accuracy                           0.70       120\n",
      "   macro avg       0.83      0.76      0.75       120\n",
      "weighted avg       0.86      0.70      0.73       120\n",
      "\n"
     ]
    }
   ],
   "source": [
    "clf_svm = SVC(kernel=\"poly\", degree=3, gamma=\"auto\", **opts)\n",
    "train_and_evaluate(clf_svm, X_train_, X_test_, y_train, y_test)"
   ]
  },
  {
   "cell_type": "markdown",
   "metadata": {},
   "source": [
    "結果說明 :\n",
    "1. 測試資料之準確率70%。\n",
    "2. 在加權平均的評估指標中，精確率、召回率和F1分數分別為0.86、0.70、0.73，這表示考慮到每個類別的樣本數量後，模型的整體性能。"
   ]
  },
  {
   "cell_type": "markdown",
   "metadata": {},
   "source": [
    "kernel(LinearSVC : \"one-vs-rest\")"
   ]
  },
  {
   "cell_type": "code",
   "execution_count": 63,
   "metadata": {},
   "outputs": [
    {
     "name": "stdout",
     "output_type": "stream",
     "text": [
      "Accuracy Score: 90.83%\n",
      "              precision    recall  f1-score   support\n",
      "\n",
      "           0       0.75      0.60      0.67         5\n",
      "           1       1.00      1.00      1.00         6\n",
      "           2       0.67      1.00      0.80         2\n",
      "           3       1.00      0.67      0.80         3\n",
      "           4       1.00      1.00      1.00         4\n",
      "           5       1.00      1.00      1.00         3\n",
      "           6       1.00      0.80      0.89         5\n",
      "           7       0.50      0.50      0.50         2\n",
      "           8       1.00      1.00      1.00         3\n",
      "           9       1.00      0.67      0.80         3\n",
      "          10       1.00      1.00      1.00         3\n",
      "          11       0.80      1.00      0.89         4\n",
      "          12       0.67      0.67      0.67         3\n",
      "          13       1.00      1.00      1.00         3\n",
      "          14       1.00      1.00      1.00         1\n",
      "          15       1.00      0.75      0.86         4\n",
      "          16       1.00      1.00      1.00         3\n",
      "          17       0.50      1.00      0.67         1\n",
      "          18       1.00      1.00      1.00         2\n",
      "          19       1.00      1.00      1.00         1\n",
      "          20       1.00      1.00      1.00         3\n",
      "          21       1.00      1.00      1.00         3\n",
      "          22       1.00      1.00      1.00         3\n",
      "          23       1.00      0.80      0.89         5\n",
      "          24       0.67      1.00      0.80         2\n",
      "          25       1.00      1.00      1.00         3\n",
      "          26       1.00      1.00      1.00         2\n",
      "          27       1.00      1.00      1.00         3\n",
      "          28       1.00      1.00      1.00         3\n",
      "          29       1.00      1.00      1.00         3\n",
      "          30       1.00      1.00      1.00         1\n",
      "          31       1.00      1.00      1.00         4\n",
      "          32       1.00      1.00      1.00         4\n",
      "          33       1.00      1.00      1.00         2\n",
      "          34       1.00      1.00      1.00         5\n",
      "          35       1.00      0.75      0.86         4\n",
      "          36       1.00      1.00      1.00         2\n",
      "          37       0.67      1.00      0.80         2\n",
      "          38       1.00      1.00      1.00         2\n",
      "          39       0.40      0.67      0.50         3\n",
      "\n",
      "    accuracy                           0.91       120\n",
      "   macro avg       0.92      0.92      0.91       120\n",
      "weighted avg       0.93      0.91      0.91       120\n",
      "\n"
     ]
    }
   ],
   "source": [
    "clf_svm = LinearSVC(dual=False, **opts) # one vs the rest\n",
    "train_and_evaluate(clf_svm, X_train_, X_test_, y_train, y_test)"
   ]
  },
  {
   "cell_type": "markdown",
   "metadata": {},
   "source": [
    "結果說明 :\n",
    "1. 測試資料之準確率90.83%。\n",
    "2. 在加權平均的評估指標中，精確率、召回率和F1分數分別為0.93、0.91、0.91，這表示考慮到每個類別的樣本數量後，模型的整體性能很好。"
   ]
  },
  {
   "cell_type": "markdown",
   "metadata": {},
   "source": [
    "### 使用網格搜索（GridSearchCV）來尋找最佳的參數組合"
   ]
  },
  {
   "cell_type": "markdown",
   "metadata": {},
   "source": [
    "程式碼說明:\n",
    "1. 設定參數網格\n",
    "2. 進行網格搜索(GridSearchCV)\n",
    "3. 輸出最佳參數：網格搜索完成後，輸出找到的最佳參數組合\n",
    "4. 預測並評估模型：使用訓練好的模型對測試數據進行預測，並輸出模型在測試數據上的準確度和分類報告"
   ]
  },
  {
   "cell_type": "code",
   "execution_count": 16,
   "metadata": {},
   "outputs": [
    {
     "name": "stdout",
     "output_type": "stream",
     "text": [
      "Fitting 3 folds for each of 9 candidates, totalling 27 fits\n",
      "Fitting 3 folds for each of 9 candidates, totalling 27 fits\n",
      "Fitting 3 folds for each of 9 candidates, totalling 27 fits\n",
      "Fitting 3 folds for each of 9 candidates, totalling 27 fits\n",
      "Best Classifier: SVC_linear\n",
      "Best Parameters:  {'max_iter': 10000, 'tol': 0.0001}\n",
      "Best Accuracy: 98.00%\n",
      "\n",
      "Classification Report for SVC_linear:\n",
      "               precision    recall  f1-score   support\n",
      "\n",
      "           0       1.00      1.00      1.00         2\n",
      "           1       1.00      1.00      1.00         3\n",
      "           2       0.75      1.00      0.86         3\n",
      "           3       1.00      1.00      1.00         3\n",
      "           4       1.00      1.00      1.00         5\n",
      "           5       1.00      1.00      1.00         2\n",
      "           6       1.00      1.00      1.00         1\n",
      "           7       1.00      1.00      1.00         3\n",
      "           8       1.00      1.00      1.00         2\n",
      "           9       1.00      0.67      0.80         3\n",
      "          10       1.00      1.00      1.00         3\n",
      "          11       1.00      1.00      1.00         2\n",
      "          12       1.00      1.00      1.00         2\n",
      "          13       1.00      1.00      1.00         4\n",
      "          14       1.00      1.00      1.00         2\n",
      "          15       1.00      1.00      1.00         4\n",
      "          16       1.00      1.00      1.00         1\n",
      "          17       1.00      1.00      1.00         3\n",
      "          18       1.00      1.00      1.00         2\n",
      "          19       1.00      1.00      1.00         3\n",
      "          20       1.00      1.00      1.00         2\n",
      "          21       1.00      1.00      1.00         2\n",
      "          22       1.00      1.00      1.00         5\n",
      "          23       1.00      1.00      1.00         3\n",
      "          24       1.00      1.00      1.00         2\n",
      "          25       1.00      0.67      0.80         3\n",
      "          26       1.00      1.00      1.00         2\n",
      "          28       1.00      1.00      1.00         3\n",
      "          29       1.00      1.00      1.00         2\n",
      "          30       1.00      1.00      1.00         4\n",
      "          33       1.00      1.00      1.00         2\n",
      "          34       1.00      1.00      1.00         2\n",
      "          35       1.00      1.00      1.00         1\n",
      "          36       1.00      1.00      1.00         4\n",
      "          37       1.00      1.00      1.00         4\n",
      "          38       1.00      1.00      1.00         3\n",
      "          39       0.75      1.00      0.86         3\n",
      "\n",
      "    accuracy                           0.98       100\n",
      "   macro avg       0.99      0.98      0.98       100\n",
      "weighted avg       0.98      0.98      0.98       100\n",
      "\n"
     ]
    }
   ],
   "source": [
    "from sklearn.model_selection import GridSearchCV\n",
    "from sklearn.svm import SVC, LinearSVC\n",
    "\n",
    "def train_and_evaluate(X_train_, X_test_, y_train, y_test):\n",
    "    # Apply PCA to the training data and transform it\n",
    "    pca = PCA(n_components = 45).fit(X_train_)\n",
    "    Z_train = pca.transform(X_train_)\n",
    "    Z_test = pca.transform(X_test_)\n",
    "\n",
    "    # Define the parameter grid for GridSearchCV\n",
    "    param_grid = {\n",
    "        'tol': [1e-4, 1e-5, 1e-6],\n",
    "        'max_iter': [int(1e4), int(1e5), int(1e6)]\n",
    "    }\n",
    "\n",
    "    # Define the classifiers\n",
    "    classifiers = {\n",
    "        'SVC_linear': SVC(kernel='linear', max_iter=int(1e6)),\n",
    "        'SVC_rbf': SVC(kernel='rbf', max_iter=int(1e6)),\n",
    "        'SVC_poly': SVC(kernel='poly', max_iter=int(1e6)),\n",
    "        'LinearSVC': LinearSVC(max_iter=int(1e6), dual=False)\n",
    "    }\n",
    "\n",
    "    # Initialize the best accuracy and classifier\n",
    "    best_accuracy = 0\n",
    "    best_classifier = None\n",
    "    best_params = None\n",
    "    best_report = None\n",
    "\n",
    "    # For each classifier\n",
    "    for name, clf in classifiers.items():\n",
    "        # Define the GridSearchCV\n",
    "        clf_gs = GridSearchCV(clf, param_grid, verbose=1, cv=3, n_jobs=-1)\n",
    "\n",
    "        # Fit the classifier with the PCA transformed data\n",
    "        clf_gs.fit(Z_train, y_train)\n",
    "\n",
    "        # Predict the labels of the PCA transformed test data\n",
    "        predictions = clf_gs.predict(Z_test)\n",
    "\n",
    "        # Calculate the accuracy score\n",
    "        acc_score = accuracy_score(y_test, predictions)\n",
    "\n",
    "        # If the accuracy is better than the current best, update the best accuracy, classifier, parameters, and report\n",
    "        if acc_score > best_accuracy:\n",
    "            best_accuracy = acc_score\n",
    "            best_classifier = name\n",
    "            best_params = clf_gs.best_params_\n",
    "            best_report = classification_report(y_test, predictions)\n",
    "\n",
    "    # Print the best classifier, parameters and accuracy\n",
    "    print(f\"Best Classifier: {best_classifier}\")\n",
    "    print(f\"Best Parameters: \", best_params)\n",
    "    print(f\"Best Accuracy: {best_accuracy:.2%}\\n\")\n",
    "    print(f\"Classification Report for {best_classifier}:\\n\", best_report)\n",
    "train_and_evaluate(X_train_, X_test_, y_train, y_test)"
   ]
  },
  {
   "cell_type": "markdown",
   "metadata": {},
   "source": [
    "\n",
    "結果說明 :\n",
    "\n",
    "三種kernel表現最好的是SVC_linear，參數設定是('max_iter': 10000, 'tol': 0.0001)，測試資料之準確率達到98%。"
   ]
  },
  {
   "cell_type": "markdown",
   "metadata": {},
   "source": [
    "### 將主成分逐漸調高（直到 281），觀察準確率的變化，並畫一張折線圖來比較（與 scree plot 對比）。\n",
    "(選用linear kernel)"
   ]
  },
  {
   "cell_type": "code",
   "execution_count": 66,
   "metadata": {},
   "outputs": [
    {
     "data": {
      "image/png": "[encoded data removed]",
      "text/plain": [
       "<Figure size 2000x600 with 2 Axes>"
      ]
     },
     "metadata": {},
     "output_type": "display_data"
    }
   ],
   "source": [
    "from sklearn.svm import SVC\n",
    "import warnings\n",
    "from sklearn.exceptions import ConvergenceWarning\n",
    "\n",
    "# Ignore ConvergenceWarning\n",
    "warnings.filterwarnings(\"ignore\", category=ConvergenceWarning)\n",
    "# Initialize an empty list to store accuracy for each number of components\n",
    "accuracy_scores = []\n",
    "C = 1 # SVM regularization parameter\n",
    "opts = dict(C = C, tol = 1e-6, max_iter = int(1e6))\n",
    "\n",
    "# Loop over number of components from 1 to 13\n",
    "for i in range(1, 281):\n",
    "    pca = PCA(n_components=i).fit(X_train_)\n",
    "    Z_train = pca.transform(X_train_)\n",
    "    Z_test = pca.transform(X_test_)\n",
    "    clf_PCA = SVC(kernel=\"linear\", **opts)\n",
    "    clf_PCA.fit(Z_train, y_train)\n",
    "    y_pred = clf_PCA.predict(Z_test)\n",
    "    accuracy = clf_PCA.score(Z_test, y_test)\n",
    "    accuracy_scores.append(accuracy)\n",
    "\n",
    "# Create a figure and a grid of subplots\n",
    "fig, (ax1, ax2) = plt.subplots(nrows=1, ncols=2, figsize=(20, 6))\n",
    "\n",
    "# Plot the accuracy scores on the first subplot\n",
    "ax1.plot(range(1, 281), accuracy_scores, marker='o', linestyle='-')\n",
    "ax1.set_title('Accuracy vs. Number of PCA Components')\n",
    "ax1.set_xlabel('Number of PCA Components')\n",
    "ax1.set_ylabel('Accuracy')\n",
    "ax1.grid(True)\n",
    "\n",
    "# Fit PCA on the training data\n",
    "pca = PCA().fit(X_train_)\n",
    "\n",
    "# Calculate explained variance ratio for each component\n",
    "explained_variance_ratio = pca.explained_variance_ratio_\n",
    "\n",
    "# Plot the explained variance ratio on the second subplot\n",
    "ax2.plot(range(1, 281), explained_variance_ratio, marker='o', linestyle='-')\n",
    "ax2.set_title('Scree Plot')\n",
    "ax2.set_xlabel('Number of PCA Components')\n",
    "ax2.set_ylabel('Explained Variance Ratio')\n",
    "ax2.grid(True)\n",
    "\n",
    "# Display the figure with the two subplots\n",
    "plt.show()"
   ]
  },
  {
   "cell_type": "markdown",
   "metadata": {},
   "source": [
    "結果說明 :\n",
    "1. 從 Scree Plot 來看，將主成分逐漸調高，Explained Variance Ratio隨之降低。\n",
    "2. 從左圖來看，只採用第一個主成分時，測試資料之準確率大約等於10%，隨著主成分逐漸調高，測試資料之準確率皆維持在大約等於90幾%。\n",
    "3. 以上說明採用越多主成分，Explained Variance Ratio隨之降低，測試資料之準確率隨之提升。"
   ]
  },
  {
   "cell_type": "markdown",
   "metadata": {},
   "source": [
    "## (四)神經網路（Neural Network）"
   ]
  },
  {
   "cell_type": "markdown",
   "metadata": {},
   "source": [
    "### (1)以標準化後之原始資料的訓練資料學習，並以測試資料測試準確率"
   ]
  },
  {
   "cell_type": "markdown",
   "metadata": {},
   "source": [
    "程式碼說明:\n",
    "1. 定義並訓練 MLP 分類器\n",
    "2. 進行預測，將預測結果存儲在 predictions 變量中\n",
    "3. 評估模型，使用 classification_report 函數來生成一個分類報告\n",
    "4. 設定使用不同演算法"
   ]
  },
  {
   "cell_type": "code",
   "execution_count": 73,
   "metadata": {},
   "outputs": [],
   "source": [
    "from sklearn.neural_network import MLPClassifier\n",
    "from sklearn.metrics import classification_report\n",
    "\n",
    "def train_MLP(solver, X_train, y_train, X_test, y_test):\n",
    "    hidden_layers = (30,)\n",
    "    activation = \"logistic\"\n",
    "    opts = dict(hidden_layer_sizes = hidden_layers , verbose = False, \\\n",
    "    activation = activation, tol = 1e-6, max_iter = int(1e6))\n",
    "\n",
    "    clf_MLP = MLPClassifier(solver = solver, **opts)\n",
    "    clf_MLP.fit(X_train, y_train)\n",
    "    predictions = clf_MLP.predict(X_test)\n",
    "    print(classification_report(y_test, predictions, zero_division=0))"
   ]
  },
  {
   "cell_type": "markdown",
   "metadata": {},
   "source": [
    "演算法(adam)"
   ]
  },
  {
   "cell_type": "code",
   "execution_count": 74,
   "metadata": {},
   "outputs": [
    {
     "name": "stdout",
     "output_type": "stream",
     "text": [
      "              precision    recall  f1-score   support\n",
      "\n",
      "           0       1.00      0.60      0.75         5\n",
      "           1       1.00      1.00      1.00         6\n",
      "           2       1.00      1.00      1.00         2\n",
      "           3       1.00      0.67      0.80         3\n",
      "           4       1.00      0.75      0.86         4\n",
      "           5       1.00      1.00      1.00         3\n",
      "           6       1.00      1.00      1.00         5\n",
      "           7       1.00      0.50      0.67         2\n",
      "           8       1.00      1.00      1.00         3\n",
      "           9       1.00      0.67      0.80         3\n",
      "          10       1.00      1.00      1.00         3\n",
      "          11       1.00      1.00      1.00         4\n",
      "          12       0.60      1.00      0.75         3\n",
      "          13       1.00      1.00      1.00         3\n",
      "          14       1.00      1.00      1.00         1\n",
      "          15       1.00      1.00      1.00         4\n",
      "          16       1.00      1.00      1.00         3\n",
      "          17       0.50      1.00      0.67         1\n",
      "          18       1.00      1.00      1.00         2\n",
      "          19       1.00      1.00      1.00         1\n",
      "          20       1.00      1.00      1.00         3\n",
      "          21       1.00      1.00      1.00         3\n",
      "          22       1.00      1.00      1.00         3\n",
      "          23       1.00      1.00      1.00         5\n",
      "          24       1.00      1.00      1.00         2\n",
      "          25       1.00      1.00      1.00         3\n",
      "          26       1.00      1.00      1.00         2\n",
      "          27       1.00      1.00      1.00         3\n",
      "          28       1.00      1.00      1.00         3\n",
      "          29       1.00      1.00      1.00         3\n",
      "          30       0.50      1.00      0.67         1\n",
      "          31       1.00      1.00      1.00         4\n",
      "          32       1.00      1.00      1.00         4\n",
      "          33       1.00      1.00      1.00         2\n",
      "          34       1.00      1.00      1.00         5\n",
      "          35       0.80      1.00      0.89         4\n",
      "          36       1.00      1.00      1.00         2\n",
      "          37       1.00      1.00      1.00         2\n",
      "          38       1.00      1.00      1.00         2\n",
      "          39       0.75      1.00      0.86         3\n",
      "\n",
      "    accuracy                           0.95       120\n",
      "   macro avg       0.95      0.95      0.94       120\n",
      "weighted avg       0.97      0.95      0.95       120\n",
      "\n"
     ]
    }
   ],
   "source": [
    "# 使用函數訓練模型\n",
    "train_MLP(\"adam\", X_train, y_train, X_test, y_test)"
   ]
  },
  {
   "cell_type": "markdown",
   "metadata": {},
   "source": [
    "結果說明 :\n",
    "1. 測試資料之準確率95%。\n",
    "2. 在加權平均的評估指標中，模型的精確率、召回率和F1分數分別為0.97、0.95、0.95，這表示模型在每個類別的預測性能很好。"
   ]
  },
  {
   "cell_type": "markdown",
   "metadata": {},
   "source": [
    "演算法(sgd)"
   ]
  },
  {
   "cell_type": "code",
   "execution_count": 75,
   "metadata": {},
   "outputs": [
    {
     "name": "stdout",
     "output_type": "stream",
     "text": [
      "              precision    recall  f1-score   support\n",
      "\n",
      "           0       1.00      0.60      0.75         5\n",
      "           1       1.00      1.00      1.00         6\n",
      "           2       0.67      1.00      0.80         2\n",
      "           3       1.00      0.67      0.80         3\n",
      "           4       1.00      0.75      0.86         4\n",
      "           5       1.00      1.00      1.00         3\n",
      "           6       1.00      1.00      1.00         5\n",
      "           7       0.50      0.50      0.50         2\n",
      "           8       1.00      1.00      1.00         3\n",
      "           9       1.00      0.67      0.80         3\n",
      "          10       1.00      1.00      1.00         3\n",
      "          11       1.00      1.00      1.00         4\n",
      "          12       1.00      0.67      0.80         3\n",
      "          13       1.00      1.00      1.00         3\n",
      "          14       0.50      1.00      0.67         1\n",
      "          15       1.00      1.00      1.00         4\n",
      "          16       1.00      1.00      1.00         3\n",
      "          17       0.50      1.00      0.67         1\n",
      "          18       1.00      1.00      1.00         2\n",
      "          19       1.00      1.00      1.00         1\n",
      "          20       1.00      1.00      1.00         3\n",
      "          21       1.00      1.00      1.00         3\n",
      "          22       1.00      1.00      1.00         3\n",
      "          23       1.00      0.80      0.89         5\n",
      "          24       1.00      1.00      1.00         2\n",
      "          25       0.75      1.00      0.86         3\n",
      "          26       1.00      1.00      1.00         2\n",
      "          27       1.00      1.00      1.00         3\n",
      "          28       1.00      1.00      1.00         3\n",
      "          29       1.00      1.00      1.00         3\n",
      "          30       1.00      1.00      1.00         1\n",
      "          31       1.00      1.00      1.00         4\n",
      "          32       1.00      1.00      1.00         4\n",
      "          33       1.00      1.00      1.00         2\n",
      "          34       0.83      1.00      0.91         5\n",
      "          35       0.80      1.00      0.89         4\n",
      "          36       1.00      1.00      1.00         2\n",
      "          37       1.00      1.00      1.00         2\n",
      "          38       1.00      1.00      1.00         2\n",
      "          39       0.75      1.00      0.86         3\n",
      "\n",
      "    accuracy                           0.93       120\n",
      "   macro avg       0.93      0.94      0.93       120\n",
      "weighted avg       0.95      0.93      0.93       120\n",
      "\n"
     ]
    }
   ],
   "source": [
    "train_MLP(\"sgd\", X_train, y_train, X_test, y_test)"
   ]
  },
  {
   "cell_type": "markdown",
   "metadata": {},
   "source": [
    "結果說明 :\n",
    "1. 測試資料之準確率93%。\n",
    "2. 在加權平均的評估指標中，模型的精確率、召回率和F1分數分別為0.95、0.93、0.93，這表示模型在每個類別的預測性能很好。"
   ]
  },
  {
   "cell_type": "markdown",
   "metadata": {},
   "source": [
    "演算法(lbfgs)"
   ]
  },
  {
   "cell_type": "code",
   "execution_count": 76,
   "metadata": {},
   "outputs": [
    {
     "name": "stdout",
     "output_type": "stream",
     "text": [
      "              precision    recall  f1-score   support\n",
      "\n",
      "           0       1.00      0.40      0.57         5\n",
      "           1       1.00      0.83      0.91         6\n",
      "           2       1.00      1.00      1.00         2\n",
      "           3       1.00      1.00      1.00         3\n",
      "           4       0.60      0.75      0.67         4\n",
      "           5       1.00      1.00      1.00         3\n",
      "           6       1.00      1.00      1.00         5\n",
      "           7       1.00      0.50      0.67         2\n",
      "           8       1.00      1.00      1.00         3\n",
      "           9       1.00      1.00      1.00         3\n",
      "          10       1.00      1.00      1.00         3\n",
      "          11       1.00      1.00      1.00         4\n",
      "          12       0.67      0.67      0.67         3\n",
      "          13       0.75      1.00      0.86         3\n",
      "          14       1.00      1.00      1.00         1\n",
      "          15       0.75      0.75      0.75         4\n",
      "          16       1.00      1.00      1.00         3\n",
      "          17       1.00      1.00      1.00         1\n",
      "          18       1.00      1.00      1.00         2\n",
      "          19       1.00      1.00      1.00         1\n",
      "          20       1.00      1.00      1.00         3\n",
      "          21       1.00      1.00      1.00         3\n",
      "          22       1.00      1.00      1.00         3\n",
      "          23       0.71      1.00      0.83         5\n",
      "          24       1.00      1.00      1.00         2\n",
      "          25       1.00      0.67      0.80         3\n",
      "          26       1.00      1.00      1.00         2\n",
      "          27       1.00      1.00      1.00         3\n",
      "          28       1.00      1.00      1.00         3\n",
      "          29       1.00      1.00      1.00         3\n",
      "          30       0.50      1.00      0.67         1\n",
      "          31       1.00      1.00      1.00         4\n",
      "          32       1.00      1.00      1.00         4\n",
      "          33       1.00      1.00      1.00         2\n",
      "          34       1.00      0.80      0.89         5\n",
      "          35       0.80      1.00      0.89         4\n",
      "          36       1.00      1.00      1.00         2\n",
      "          37       1.00      1.00      1.00         2\n",
      "          38       1.00      1.00      1.00         2\n",
      "          39       0.75      1.00      0.86         3\n",
      "\n",
      "    accuracy                           0.92       120\n",
      "   macro avg       0.94      0.93      0.93       120\n",
      "weighted avg       0.93      0.92      0.91       120\n",
      "\n"
     ]
    }
   ],
   "source": [
    "train_MLP(\"lbfgs\", X_train, y_train, X_test, y_test)"
   ]
  },
  {
   "cell_type": "markdown",
   "metadata": {},
   "source": [
    "結果說明 :\n",
    "1. 測試資料之準確率92%。\n",
    "2. 在加權平均的評估指標中，模型的精確率、召回率和F1分數分別為0.93、0.92、0.91，這表示模型在每個類別的預測性能很好。"
   ]
  },
  {
   "cell_type": "markdown",
   "metadata": {},
   "source": [
    "三種演算法表現最好的是adamc，測試資料之準確率95%。"
   ]
  },
  {
   "cell_type": "markdown",
   "metadata": {},
   "source": [
    "### (2)以標準化後之原始資料的主成分之訓練資料學習，並以測試資料測試準確率"
   ]
  },
  {
   "cell_type": "markdown",
   "metadata": {},
   "source": [
    "程式碼說明:\n",
    "1. 定義並訓練 MLP 分類器\n",
    "2. 進行預測，將預測結果存儲在 predictions 變量中\n",
    "3. 設定保留前兩個主成分\n",
    "4. 評估模型，使用 classification_report 函數來生成一個分類報告\n",
    "5. 設定使用不同演算法"
   ]
  },
  {
   "cell_type": "code",
   "execution_count": 77,
   "metadata": {},
   "outputs": [],
   "source": [
    "from sklearn.decomposition import PCA\n",
    "from sklearn.neural_network import MLPClassifier\n",
    "from sklearn.metrics import classification_report\n",
    "\n",
    "def train_MLP_with_PCA(solver, X_train, y_train, X_test, y_test):\n",
    "    # Define the PCA transformer\n",
    "    pca = PCA(n_components=45)\n",
    "\n",
    "    # Apply PCA to the training data and transform it\n",
    "    X_train_pca = pca.fit_transform(X_train)\n",
    "    X_test_pca = pca.transform(X_test)\n",
    "\n",
    "    hidden_layers = (30,)\n",
    "    activation = \"logistic\"\n",
    "    opts = dict(hidden_layer_sizes = hidden_layers , verbose = False, \\\n",
    "    activation = activation, tol = 1e-6, max_iter = int(1e6))\n",
    "\n",
    "    clf_MLP = MLPClassifier(solver = solver, **opts)\n",
    "    clf_MLP.fit(X_train_pca, y_train)\n",
    "    predictions = clf_MLP.predict(X_test_pca)\n",
    "    print(classification_report(y_test, predictions))\n",
    "\n"
   ]
  },
  {
   "cell_type": "markdown",
   "metadata": {},
   "source": [
    "演算法(adam)"
   ]
  },
  {
   "cell_type": "code",
   "execution_count": 78,
   "metadata": {},
   "outputs": [
    {
     "name": "stdout",
     "output_type": "stream",
     "text": [
      "              precision    recall  f1-score   support\n",
      "\n",
      "           0       1.00      0.60      0.75         5\n",
      "           1       1.00      0.83      0.91         6\n",
      "           2       0.67      1.00      0.80         2\n",
      "           3       0.50      0.67      0.57         3\n",
      "           4       1.00      0.75      0.86         4\n",
      "           5       1.00      1.00      1.00         3\n",
      "           6       1.00      1.00      1.00         5\n",
      "           7       1.00      0.50      0.67         2\n",
      "           8       1.00      1.00      1.00         3\n",
      "           9       1.00      0.67      0.80         3\n",
      "          10       1.00      1.00      1.00         3\n",
      "          11       1.00      1.00      1.00         4\n",
      "          12       0.67      0.67      0.67         3\n",
      "          13       1.00      1.00      1.00         3\n",
      "          14       0.50      1.00      0.67         1\n",
      "          15       1.00      1.00      1.00         4\n",
      "          16       1.00      1.00      1.00         3\n",
      "          17       1.00      1.00      1.00         1\n",
      "          18       1.00      1.00      1.00         2\n",
      "          19       1.00      1.00      1.00         1\n",
      "          20       0.75      1.00      0.86         3\n",
      "          21       1.00      1.00      1.00         3\n",
      "          22       1.00      1.00      1.00         3\n",
      "          23       1.00      1.00      1.00         5\n",
      "          24       0.67      1.00      0.80         2\n",
      "          25       1.00      1.00      1.00         3\n",
      "          26       0.67      1.00      0.80         2\n",
      "          27       1.00      1.00      1.00         3\n",
      "          28       1.00      1.00      1.00         3\n",
      "          29       1.00      1.00      1.00         3\n",
      "          30       1.00      1.00      1.00         1\n",
      "          31       1.00      1.00      1.00         4\n",
      "          32       1.00      1.00      1.00         4\n",
      "          33       1.00      1.00      1.00         2\n",
      "          34       1.00      1.00      1.00         5\n",
      "          35       1.00      0.75      0.86         4\n",
      "          36       1.00      1.00      1.00         2\n",
      "          37       1.00      1.00      1.00         2\n",
      "          38       1.00      1.00      1.00         2\n",
      "          39       0.75      1.00      0.86         3\n",
      "\n",
      "    accuracy                           0.93       120\n",
      "   macro avg       0.93      0.94      0.92       120\n",
      "weighted avg       0.95      0.93      0.93       120\n",
      "\n"
     ]
    }
   ],
   "source": [
    "# 使用函數訓練模型\n",
    "train_MLP_with_PCA(\"adam\", X_train, y_train, X_test, y_test)"
   ]
  },
  {
   "cell_type": "markdown",
   "metadata": {},
   "source": [
    "結果說明 :\n",
    "1. 測試資料之準確率93%。\n",
    "2. 在加權平均的評估指標中，模型的精確率、召回率和F1分數分別為0.95、0.93、0.93，這表示模型在每個類別的預測性能。"
   ]
  },
  {
   "cell_type": "markdown",
   "metadata": {},
   "source": [
    "演算法(sgd)"
   ]
  },
  {
   "cell_type": "code",
   "execution_count": 79,
   "metadata": {},
   "outputs": [
    {
     "name": "stdout",
     "output_type": "stream",
     "text": [
      "              precision    recall  f1-score   support\n",
      "\n",
      "           0       1.00      0.60      0.75         5\n",
      "           1       1.00      1.00      1.00         6\n",
      "           2       1.00      1.00      1.00         2\n",
      "           3       0.67      0.67      0.67         3\n",
      "           4       1.00      0.75      0.86         4\n",
      "           5       0.75      1.00      0.86         3\n",
      "           6       1.00      1.00      1.00         5\n",
      "           7       1.00      0.50      0.67         2\n",
      "           8       1.00      1.00      1.00         3\n",
      "           9       1.00      0.67      0.80         3\n",
      "          10       1.00      1.00      1.00         3\n",
      "          11       1.00      1.00      1.00         4\n",
      "          12       0.67      0.67      0.67         3\n",
      "          13       0.75      1.00      0.86         3\n",
      "          14       0.50      1.00      0.67         1\n",
      "          15       0.80      1.00      0.89         4\n",
      "          16       1.00      1.00      1.00         3\n",
      "          17       1.00      1.00      1.00         1\n",
      "          18       1.00      1.00      1.00         2\n",
      "          19       1.00      1.00      1.00         1\n",
      "          20       0.60      1.00      0.75         3\n",
      "          21       1.00      1.00      1.00         3\n",
      "          22       1.00      1.00      1.00         3\n",
      "          23       1.00      0.80      0.89         5\n",
      "          24       1.00      1.00      1.00         2\n",
      "          25       1.00      0.67      0.80         3\n",
      "          26       1.00      1.00      1.00         2\n",
      "          27       1.00      1.00      1.00         3\n",
      "          28       1.00      0.67      0.80         3\n",
      "          29       1.00      1.00      1.00         3\n",
      "          30       0.50      1.00      0.67         1\n",
      "          31       1.00      1.00      1.00         4\n",
      "          32       1.00      1.00      1.00         4\n",
      "          33       1.00      1.00      1.00         2\n",
      "          34       1.00      1.00      1.00         5\n",
      "          35       1.00      1.00      1.00         4\n",
      "          36       1.00      1.00      1.00         2\n",
      "          37       1.00      1.00      1.00         2\n",
      "          38       1.00      1.00      1.00         2\n",
      "          39       0.75      1.00      0.86         3\n",
      "\n",
      "    accuracy                           0.92       120\n",
      "   macro avg       0.92      0.92      0.91       120\n",
      "weighted avg       0.94      0.92      0.92       120\n",
      "\n"
     ]
    }
   ],
   "source": [
    "# 使用函數訓練模型\n",
    "train_MLP_with_PCA(\"sgd\", X_train, y_train, X_test, y_test)"
   ]
  },
  {
   "cell_type": "markdown",
   "metadata": {},
   "source": [
    "結果說明 :\n",
    "1. 測試資料之準確率92%。\n",
    "2. 在加權平均的評估指標中，模型的精確率、召回率和F1分數分別為0.94、0.92、0.92，這表示模型在每個類別的預測性能很好。"
   ]
  },
  {
   "cell_type": "markdown",
   "metadata": {},
   "source": [
    "演算法(lbfgs)"
   ]
  },
  {
   "cell_type": "code",
   "execution_count": 80,
   "metadata": {},
   "outputs": [
    {
     "name": "stdout",
     "output_type": "stream",
     "text": [
      "              precision    recall  f1-score   support\n",
      "\n",
      "           0       1.00      0.60      0.75         5\n",
      "           1       1.00      1.00      1.00         6\n",
      "           2       0.67      1.00      0.80         2\n",
      "           3       0.67      0.67      0.67         3\n",
      "           4       1.00      0.75      0.86         4\n",
      "           5       0.75      1.00      0.86         3\n",
      "           6       1.00      1.00      1.00         5\n",
      "           7       1.00      0.50      0.67         2\n",
      "           8       1.00      1.00      1.00         3\n",
      "           9       0.67      0.67      0.67         3\n",
      "          10       1.00      1.00      1.00         3\n",
      "          11       1.00      1.00      1.00         4\n",
      "          12       1.00      0.67      0.80         3\n",
      "          13       1.00      1.00      1.00         3\n",
      "          14       1.00      1.00      1.00         1\n",
      "          15       0.80      1.00      0.89         4\n",
      "          16       0.75      1.00      0.86         3\n",
      "          17       0.50      1.00      0.67         1\n",
      "          18       1.00      1.00      1.00         2\n",
      "          19       1.00      1.00      1.00         1\n",
      "          20       1.00      1.00      1.00         3\n",
      "          21       0.75      1.00      0.86         3\n",
      "          22       1.00      1.00      1.00         3\n",
      "          23       0.80      0.80      0.80         5\n",
      "          24       1.00      1.00      1.00         2\n",
      "          25       1.00      1.00      1.00         3\n",
      "          26       1.00      1.00      1.00         2\n",
      "          27       1.00      1.00      1.00         3\n",
      "          28       1.00      1.00      1.00         3\n",
      "          29       1.00      1.00      1.00         3\n",
      "          30       1.00      1.00      1.00         1\n",
      "          31       1.00      1.00      1.00         4\n",
      "          32       1.00      1.00      1.00         4\n",
      "          33       1.00      1.00      1.00         2\n",
      "          34       1.00      1.00      1.00         5\n",
      "          35       1.00      0.75      0.86         4\n",
      "          36       1.00      1.00      1.00         2\n",
      "          37       1.00      1.00      1.00         2\n",
      "          38       1.00      1.00      1.00         2\n",
      "          39       1.00      1.00      1.00         3\n",
      "\n",
      "    accuracy                           0.93       120\n",
      "   macro avg       0.93      0.93      0.92       120\n",
      "weighted avg       0.94      0.93      0.92       120\n",
      "\n"
     ]
    }
   ],
   "source": [
    "# 使用函數訓練模型\n",
    "train_MLP_with_PCA(\"lbfgs\", X_train, y_train, X_test, y_test)"
   ]
  },
  {
   "cell_type": "markdown",
   "metadata": {},
   "source": [
    "結果說明 :\n",
    "1. 測試資料之準確率93%。\n",
    "2. 在加權平均的評估指標中，模型的精確率、召回率和F1分數分別為0.94、0.93、0.92，這表示模型在每個類別的預測性能很好。"
   ]
  },
  {
   "cell_type": "markdown",
   "metadata": {},
   "source": [
    "三種演算法表現最好的是adamc和lbfgs，測試資料之準確率93%。"
   ]
  },
  {
   "cell_type": "markdown",
   "metadata": {},
   "source": [
    "### <font color=blue>對兩種資料型態與三個分類器的表現做比較</font>\n",
    "\n",
    "多元羅吉斯回歸 (Multinomial Logistic Regression)\n",
    "\n",
    "1. 原始資料 : accuracy大約97%\n",
    "2. 主成分資料(取前2個) : accuracy大約95%\n",
    "\n",
    "支援向量機 (Support Vector Machine)\n",
    "\n",
    "1. 原始資料 : accuracy大約98%\n",
    "2. 主成分資料(取前2個) : accuracy大約98%\n",
    "\n",
    "神經網路 (Neural Network)\n",
    "\n",
    "1. 原始資料 : accuracy大約95%\n",
    "2. 主成分資料(取前2個) : accuracy大約93%\n",
    "\n",
    "結果: \n",
    "1. 在原始資料下，支援向量機的測試資料之準確率最高，達97%；再來是多元羅吉斯回歸，測試資料之準確率達97%；最後是神經網路，測試資料之準確率達95%。\n",
    "2. 主成分資料(取前45個)下，支援向量機的測試資料最高，達98%；多元羅吉斯回歸的測試資料之準確率95%；最後是神經網路，測試資料之準確率達93%。\n",
    "\n",
    "<font color=darkgoldenrod>個人見解</font> :\n",
    "\n",
    "1. 支援向量機在所有情況下都有最高的準確率。\n",
    "2. 神經網路在降維後的資料上表現較差，可能因為資訊損失或模型複雜度過高。\n",
    "3. 對於這組較小的資料，較簡單的模型（多元羅吉斯回歸和支援向量機）表現較好，可能因為神經網路無法充分學習。"
   ]
  }
 ],
 "metadata": {
  "kernelspec": {
   "display_name": "Python 3",
   "language": "python",
   "name": "python3"
  },
  "language_info": {
   "codemirror_mode": {
    "name": "ipython",
    "version": 3
   },
   "file_extension": ".py",
   "mimetype": "text/x-python",
   "name": "python",
   "nbconvert_exporter": "python",
   "pygments_lexer": "ipython3",
   "version": "3.11.1"
  }
 },
 "nbformat": 4,
 "nbformat_minor": 2
}
